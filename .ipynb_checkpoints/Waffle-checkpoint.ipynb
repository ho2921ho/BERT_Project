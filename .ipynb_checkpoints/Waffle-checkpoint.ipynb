{
 "cells": [
  {
   "cell_type": "code",
   "execution_count": 1,
   "id": "e1494ef7",
   "metadata": {},
   "outputs": [],
   "source": [
    "class WaffleMachine:\n",
    "    waffles = [([1]*1000) for i in range(1000)]\n",
    "    def __init__(self,x1,y1,x2,y2):\n",
    "        self.x1 = x1\n",
    "        self.x2 = x2\n",
    "        self.y1 = y1\n",
    "        self.y2 = y2\n",
    "    def front(self):\n",
    "        for y in range(self.y1,self.y2+1):\n",
    "            for x in range(self.x1,self.x2+1):\n",
    "                WaffleMachine.waffles[y][x] = 1\n",
    "    def back(self):\n",
    "        for y in range(self.y1,self.y2+1):\n",
    "            for x in range(self.x1,self.x2+1):\n",
    "                WaffleMachine.waffles[y][x] = 0\n",
    "    def flip(self):\n",
    "        for y in range(self.y1,self.y2+1):\n",
    "            for x in range(self.x1,self.x2+1):\n",
    "                if WaffleMachine.waffles[y][x] == 1:\n",
    "                    WaffleMachine.waffles[y][x] = 0\n",
    "                else:\n",
    "                    WaffleMachine.waffles[y][x] = 1"
   ]
  },
  {
   "cell_type": "code",
   "execution_count": 14,
   "id": "cbac71fe",
   "metadata": {
    "scrolled": true
   },
   "outputs": [
    {
     "name": "stdout",
     "output_type": "stream",
     "text": [
      "back 0,0 through 999,999\n",
      "front 499,499 through 500,500\n",
      "flip 498,498 through 501,501 \n",
      "\n",
      "12\n"
     ]
    }
   ],
   "source": [
    "while True:\n",
    "    tmp = input()\n",
    "    if tmp != '':\n",
    "        tmp = tmp.split()\n",
    "        method = tmp[0]\n",
    "        x1 = int(tmp[1].split(',')[0])\n",
    "        y1 = int(tmp[1].split(',')[1])\n",
    "        x2 = int(tmp[-1].split(',')[0])\n",
    "        y2 = int(tmp[-1].split(',')[1])\n",
    "        if method == 'front':\n",
    "            WaffleMachine(x1,y1,x2,y2).front()\n",
    "        elif method == 'back':\n",
    "            WaffleMachine(x1,y1,x2,y2).back()\n",
    "        elif method == 'flip':\n",
    "            WaffleMachine(x1,y1,x2,y2).flip()\n",
    "        else:\n",
    "            print(\"올바른 명령어를 입력하세요\")\n",
    "            break\n",
    "\n",
    "    else:\n",
    "        sum_ = 0\n",
    "        for i in range(len(WaffleMachine.waffles)):\n",
    "                       sum_ += sum(WaffleMachine.waffles[i])\n",
    "        print(sum_)\n",
    "        break"
   ]
  },
  {
   "cell_type": "code",
   "execution_count": null,
   "id": "313b702c",
   "metadata": {},
   "outputs": [],
   "source": [
    "back 0,0 through 999,999\n",
    "front 499,499 through 500,500\n",
    "flip 498,498 through 501,501   \n"
   ]
  }
 ],
 "metadata": {
  "kernelspec": {
   "display_name": "Python 3",
   "language": "python",
   "name": "python3"
  },
  "language_info": {
   "codemirror_mode": {
    "name": "ipython",
    "version": 3
   },
   "file_extension": ".py",
   "mimetype": "text/x-python",
   "name": "python",
   "nbconvert_exporter": "python",
   "pygments_lexer": "ipython3",
   "version": "3.9.12"
  }
 },
 "nbformat": 4,
 "nbformat_minor": 5
}
