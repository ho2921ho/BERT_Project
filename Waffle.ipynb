{
 "cells": [
  {
   "cell_type": "code",
   "execution_count": 1,
   "id": "0f462508",
   "metadata": {},
   "outputs": [],
   "source": [
    "class WaffleMachine:\n",
    "    waffles = [([1]*1000) for i in range(1000)]\n",
    "    def __init__(self,x1,y1,x2,y2):\n",
    "        self.x1 = x1\n",
    "        self.x2 = x2\n",
    "        self.y1 = y1\n",
    "        self.y2 = y2\n",
    "    def front(self):\n",
    "        for y in range(self.y1,self.y2+1):\n",
    "            for x in range(self.x1,self.x2+1):\n",
    "                WaffleMachine.waffles[y][x] = 1\n",
    "    def back(self):\n",
    "        for y in range(self.y1,self.y2+1):\n",
    "            for x in range(self.x1,self.x2+1):\n",
    "                WaffleMachine.waffles[y][x] = 0\n",
    "    def flip(self):\n",
    "        for y in range(self.y1,self.y2+1):\n",
    "            for x in range(self.x1,self.x2+1):\n",
    "                if WaffleMachine.waffles[y][x] == 1:\n",
    "                    WaffleMachine.waffles[y][x] = 0\n",
    "                else:\n",
    "                    WaffleMachine.waffles[y][x] = 1"
   ]
  },
  {
   "cell_type": "code",
   "execution_count": 14,
   "id": "56d0f7b1",
   "metadata": {
    "scrolled": true
   },
   "outputs": [
    {
     "name": "stdout",
     "output_type": "stream",
     "text": [
      "back 0,0 through 999,999\n",
      "front 499,499 through 500,500\n",
      "flip 498,498 through 501,501 \n",
      "\n",
      "12\n"
     ]
    }
   ],
   "source": [
    "while True:\n",
    "    tmp = input()\n",
    "    if tmp != '':\n",
    "        tmp = tmp.split()\n",
    "        method = tmp[0]\n",
    "        x1 = int(tmp[1].split(',')[0])\n",
    "        y1 = int(tmp[1].split(',')[1])\n",
    "        x2 = int(tmp[-1].split(',')[0])\n",
    "        y2 = int(tmp[-1].split(',')[1])\n",
    "        if method == 'front':\n",
    "            WaffleMachine(x1,y1,x2,y2).front()\n",
    "        elif method == 'back':\n",
    "            WaffleMachine(x1,y1,x2,y2).back()\n",
    "        elif method == 'flip':\n",
    "            WaffleMachine(x1,y1,x2,y2).flip()\n",
    "        else:\n",
    "            print(\"올바른 명령어를 입력하세요\")\n",
    "            break\n",
    "\n",
    "    else:\n",
    "        sum_ = 0\n",
    "        for i in range(len(WaffleMachine.waffles)):\n",
    "                       sum_ += sum(WaffleMachine.waffles[i])\n",
    "        print(sum_)\n",
    "        break"
   ]
  },
  {
   "cell_type": "code",
   "execution_count": null,
   "id": "d218f0ab",
   "metadata": {},
   "outputs": [],
   "source": []
  },
  {
   "cell_type": "code",
   "execution_count": null,
   "id": "f2b48a76",
   "metadata": {},
   "outputs": [],
   "source": [
    "back 0,0 through 999,999\n",
    "front 499,499 through 500,500\n",
    "flip 498,498 through 501,501   "
   ]
  },
  {
   "cell_type": "code",
   "execution_count": 6,
   "id": "5f68d390",
   "metadata": {},
   "outputs": [],
   "source": [
    "waffles = [1 for i in range(100000)]"
   ]
  },
  {
   "cell_type": "code",
   "execution_count": 15,
   "id": "6af76bea",
   "metadata": {},
   "outputs": [
    {
     "data": {
      "text/plain": [
       "[1, 2, 3, 1, 2, 1, 4, 5, 6, 7]"
      ]
     },
     "execution_count": 15,
     "metadata": {},
     "output_type": "execute_result"
    }
   ],
   "source": [
    "\n",
    "\n",
    "\n"
   ]
  },
  {
   "cell_type": "code",
   "execution_count": 17,
   "id": "a4f08947",
   "metadata": {
    "scrolled": true
   },
   "outputs": [
    {
     "name": "stdout",
     "output_type": "stream",
     "text": [
      "back 0,0 through 999,999\n",
      "front 499,499 through 500,500\n",
      "flip 498,498 through 501,501\n",
      "\n",
      "12\n"
     ]
    }
   ],
   "source": [
    "waffles = [([1]*1000) for i in range(1000)]\n",
    "\n",
    "while True:\n",
    "    tmp = input()\n",
    "    if tmp != '':\n",
    "        tmp = tmp.split()\n",
    "        method = tmp[0]\n",
    "        x1 = int(tmp[1].split(',')[0])\n",
    "        y1 = int(tmp[1].split(',')[1])\n",
    "        x2 = int(tmp[-1].split(',')[0])\n",
    "        y2 = int(tmp[-1].split(',')[1])\n",
    "        if method == 'front':\n",
    "            for y in range(y1,y2+1):\n",
    "                for x in range(x1,x2+1):\n",
    "                    if waffles[y][x] == 1:\n",
    "                        pass\n",
    "                    else:\n",
    "                        waffles[y][x] = 1\n",
    "\n",
    "        elif method == 'back':\n",
    "            for y in range(y1,y2+1):\n",
    "                for x in range(x1,x2+1):\n",
    "                    if waffles[y][x] == 0 :\n",
    "                        pass\n",
    "                    else:\n",
    "                        waffles[y][x] = 0\n",
    "\n",
    "        elif method == 'flip':\n",
    "            for y in range(y1,y2+1):\n",
    "                for x in range(x1,x2+1):\n",
    "                    if waffles[y][x] == 1:\n",
    "                        waffles[y][x] = 0\n",
    "                    else:\n",
    "                        waffles[y][x] = 1\n",
    "        else:\n",
    "            print(\"올바른 명령어를 입력하세요\")\n",
    "            break\n",
    "\n",
    "    else:\n",
    "        print(sum([j for sub in waffles for j in sub]))  \n",
    "        break"
   ]
  },
  {
   "cell_type": "code",
   "execution_count": null,
   "id": "347245f5",
   "metadata": {},
   "outputs": [],
   "source": [
    "\n",
    "'''\n",
    "4 2 5 //x y z\n",
    "123456 20 234567 23 111111 5 111111 17 //SNUTT\n",
    "111111 34 123456 36 //식샤 \n",
    "121314 23 123456 22 999999 18 111111 27 111111 4 //스누보드\n",
    "'''"
   ]
  },
  {
   "cell_type": "code",
   "execution_count": 1,
   "id": "677d9555",
   "metadata": {},
   "outputs": [
    {
     "name": "stdout",
     "output_type": "stream",
     "text": [
      "4 2 5\n",
      "123456 20 234567 23 111111 5 111111 17\n",
      "111111 34 123456 36\n",
      "121314 23 123456 22 999999 18 111111 27 111111 4\n",
      "2 111111 123456\n"
     ]
    }
   ],
   "source": [
    "def res(d1):\n",
    "    mydict = dict()\n",
    "    for idx, i in enumerate(d1):\n",
    "        if idx % 2 == 0:\n",
    "            try:\n",
    "                mydict[i] += int(d1[idx+1])\n",
    "            except:\n",
    "                mydict[i] = 0\n",
    "                mydict[i] += int(d1[idx+1])\n",
    "\n",
    "    res = {key: val for key, val in filter(lambda sub: int(sub[1]) >= 20, mydict.items())}\n",
    "    return res\n",
    "\n",
    "def main():\n",
    "    t1,t2,t3 = map(int,input().split())\n",
    "    d1 = input().split()\n",
    "    d2 = input().split()\n",
    "    d3 = input().split()\n",
    "\n",
    "    res1 = res(d1)\n",
    "    res2 = res(d2)\n",
    "    res3 = res(d3)\n",
    "    final = []\n",
    "\n",
    "    for key in res1.keys():\n",
    "        if key in res2.keys():\n",
    "            final.append(key)\n",
    "\n",
    "    final2 = []\n",
    "    for key in final:\n",
    "        if key in res3.keys():\n",
    "            final2.append(key)\n",
    "\n",
    "    print(len(final2),' '.join(final2))\n",
    "    \n",
    "main()"
   ]
  },
  {
   "cell_type": "code",
   "execution_count": null,
   "id": "8786da83",
   "metadata": {},
   "outputs": [],
   "source": [
    "[2,3,4]"
   ]
  },
  {
   "cell_type": "code",
   "execution_count": null,
   "id": "2d4b4cf8",
   "metadata": {},
   "outputs": [],
   "source": [
    "class WaffleMachine:\n",
    "    waffles = [([1]*1000) for i in range(1000)]\n",
    "    def __init__(self,x1,y1,x2,y2):\n",
    "        self.x1 = x1\n",
    "        self.x2 = x2\n",
    "        self.y1 = y1\n",
    "        self.y2 = y2\n",
    "    def front(self):\n",
    "        for y in range(self.y1,self.y2+1):\n",
    "            for x in range(self.x1,self.x2+1):\n",
    "                WaffleMachine.waffles[y][x] = 1\n",
    "    def back(self):\n",
    "        for y in range(self.y1,self.y2+1):\n",
    "            for x in range(self.x1,self.x2+1):\n",
    "                WaffleMachine.waffles[y][x] = 0\n",
    "    def flip(self):\n",
    "        for y in range(self.y1,self.y2+1):\n",
    "            for x in range(self.x1,self.x2+1):\n",
    "                if WaffleMachine.waffles[y][x] == 1:\n",
    "                    WaffleMachine.waffles[y][x] = 0\n",
    "                else:\n",
    "                    WaffleMachine.waffles[y][x] = 1"
   ]
  },
  {
   "cell_type": "code",
   "execution_count": 1,
   "id": "489a7835",
   "metadata": {},
   "outputs": [
    {
     "name": "stdout",
     "output_type": "stream",
     "text": [
      "sdgkaljds\n",
      "dskfjaskdljga\n",
      "dsgjsd;agjskdjga\n",
      "sdgj\n",
      "asdljglsdjag;ldsgj\n",
      "aldjgsl;adjgl;jds\n",
      "q\n"
     ]
    }
   ],
   "source": [
    "class Order:\n",
    "    current = 0\n",
    "    record = []\n",
    "    std_list = input()\n",
    "    std_list = std_list.replace('\"','')\n",
    "    std_list = std_list[1:-1].split(',')\n",
    "\n",
    "    def move_up(n):\n",
    "        if Order.current - n < 0:\n",
    "            print('Error 100')\n",
    "        else:\n",
    "            Order.current = Order.current - n\n",
    "\n",
    "    def move_down(n):\n",
    "        if Order.current + n > len(Order.std_list)-1:\n",
    "            print('Error 100')\n",
    "        else:\n",
    "            Order.current = Order.current + n\n",
    "\n",
    "    def listf():\n",
    "        for i in Order.std_list:\n",
    "            print(i)\n",
    "\n",
    "    def delete():\n",
    "        tmp = Order.std_list.copy()\n",
    "        Order.record.append(tmp)\n",
    "        Order.std_list.pop(Order.current)\n",
    "        if Order.current == len(Order.std_list)-1:\n",
    "            Order.current -= 1\n",
    "\n",
    "    def restore():  \n",
    "        try:\n",
    "            Order.std_list = Order.record[-1]\n",
    "            Order.record.pop(-1)\n",
    "        except:\n",
    "            print(\"Error 200\")\n",
    "while True:\n",
    "    order = input()\n",
    "    \n",
    "    if order == 'delete':\n",
    "        Order.delete()\n",
    "\n",
    "    if \"move -u\" in order:\n",
    "        n = int(order.split()[-1])\n",
    "        Order.move_up(n)\n",
    "\n",
    "    if \"move -d\" in order:\n",
    "        n = int(order.split()[-1])\n",
    "        Order.move_down(n)\n",
    "\n",
    "    if order == 'restore':\n",
    "        Order.restore()\n",
    "\n",
    "    if order == 'list':\n",
    "        Order.listf()\n",
    "\n",
    "    if order == 'q':\n",
    "        break"
   ]
  },
  {
   "cell_type": "code",
   "execution_count": 16,
   "id": "6967291a",
   "metadata": {
    "scrolled": true
   },
   "outputs": [],
   "source": [
    "std_list = '[\"aaa\",\"bbb\",\"ccc\",\"ddd\",\"eee\",\"fff\",\"ggg\",\"hhh\"]'"
   ]
  },
  {
   "cell_type": "code",
   "execution_count": 17,
   "id": "b5d7a47f",
   "metadata": {},
   "outputs": [],
   "source": []
  },
  {
   "cell_type": "code",
   "execution_count": 18,
   "id": "f92c7fdf",
   "metadata": {},
   "outputs": [],
   "source": [
    "std_list = std_list[1:-1].split(',')"
   ]
  },
  {
   "cell_type": "code",
   "execution_count": 20,
   "id": "4dc6c7e0",
   "metadata": {
    "scrolled": true
   },
   "outputs": [
    {
     "data": {
      "text/plain": [
       "'aaa'"
      ]
     },
     "execution_count": 20,
     "metadata": {},
     "output_type": "execute_result"
    }
   ],
   "source": []
  },
  {
   "cell_type": "code",
   "execution_count": 201,
   "id": "73c35980",
   "metadata": {},
   "outputs": [],
   "source": [
    "order = 'move -u 1'"
   ]
  },
  {
   "cell_type": "code",
   "execution_count": 202,
   "id": "da36969b",
   "metadata": {},
   "outputs": [
    {
     "name": "stdout",
     "output_type": "stream",
     "text": [
      "Error 100\n"
     ]
    }
   ],
   "source": [
    "Order.move_up(1)"
   ]
  },
  {
   "cell_type": "code",
   "execution_count": 204,
   "id": "8af4e275",
   "metadata": {},
   "outputs": [],
   "source": [
    "order = 'move -d 8'"
   ]
  },
  {
   "cell_type": "code",
   "execution_count": 205,
   "id": "9c53491a",
   "metadata": {},
   "outputs": [
    {
     "name": "stdout",
     "output_type": "stream",
     "text": [
      "Error 100\n"
     ]
    }
   ],
   "source": [
    "Order.move_down(8)"
   ]
  },
  {
   "cell_type": "code",
   "execution_count": 207,
   "id": "4486bc01",
   "metadata": {},
   "outputs": [],
   "source": [
    "order = 'move -d 4'"
   ]
  },
  {
   "cell_type": "code",
   "execution_count": 208,
   "id": "a703b4e6",
   "metadata": {},
   "outputs": [],
   "source": [
    "Order.move_down(4)"
   ]
  },
  {
   "cell_type": "code",
   "execution_count": 210,
   "id": "4265e4d9",
   "metadata": {},
   "outputs": [],
   "source": [
    "order = 'delete'"
   ]
  },
  {
   "cell_type": "code",
   "execution_count": 211,
   "id": "55c152c7",
   "metadata": {},
   "outputs": [],
   "source": [
    "Order.delete()"
   ]
  },
  {
   "cell_type": "code",
   "execution_count": 213,
   "id": "cfe9c2e0",
   "metadata": {},
   "outputs": [],
   "source": [
    "order = 'move -u 3'"
   ]
  },
  {
   "cell_type": "code",
   "execution_count": 214,
   "id": "4500b4c9",
   "metadata": {
    "scrolled": true
   },
   "outputs": [],
   "source": [
    "Order.move_up(3)"
   ]
  },
  {
   "cell_type": "code",
   "execution_count": 216,
   "id": "84243b03",
   "metadata": {},
   "outputs": [],
   "source": [
    "order = 'delete'"
   ]
  },
  {
   "cell_type": "code",
   "execution_count": 217,
   "id": "44af4d4d",
   "metadata": {},
   "outputs": [],
   "source": [
    "Order.delete()"
   ]
  },
  {
   "cell_type": "code",
   "execution_count": 219,
   "id": "03c7b50e",
   "metadata": {},
   "outputs": [],
   "source": [
    "order = 'list'"
   ]
  },
  {
   "cell_type": "code",
   "execution_count": 220,
   "id": "ed3d037d",
   "metadata": {
    "scrolled": true
   },
   "outputs": [
    {
     "name": "stdout",
     "output_type": "stream",
     "text": [
      "aaa\n",
      "ccc\n",
      "ddd\n",
      "fff\n",
      "ggg\n",
      "hhh\n"
     ]
    }
   ],
   "source": [
    "Order.listf()"
   ]
  },
  {
   "cell_type": "code",
   "execution_count": 221,
   "id": "fe1e87c9",
   "metadata": {},
   "outputs": [],
   "source": [
    "order = 'move -d 4'"
   ]
  },
  {
   "cell_type": "code",
   "execution_count": 222,
   "id": "1c4733b2",
   "metadata": {},
   "outputs": [],
   "source": [
    "Order.move_down(4)"
   ]
  },
  {
   "cell_type": "code",
   "execution_count": 223,
   "id": "826c63a0",
   "metadata": {},
   "outputs": [],
   "source": [
    "order = 'delete'"
   ]
  },
  {
   "cell_type": "code",
   "execution_count": 224,
   "id": "6919adc1",
   "metadata": {},
   "outputs": [],
   "source": [
    "Order.delete()"
   ]
  },
  {
   "cell_type": "code",
   "execution_count": 226,
   "id": "de0854ee",
   "metadata": {},
   "outputs": [],
   "source": [
    "order = 'move -u 2'"
   ]
  },
  {
   "cell_type": "code",
   "execution_count": 227,
   "id": "fd9925b1",
   "metadata": {},
   "outputs": [],
   "source": [
    "Order.move_up(2)"
   ]
  },
  {
   "cell_type": "code",
   "execution_count": 228,
   "id": "e156c7dd",
   "metadata": {},
   "outputs": [],
   "source": [
    "order = 'list'"
   ]
  },
  {
   "cell_type": "code",
   "execution_count": 229,
   "id": "6c5345cb",
   "metadata": {
    "scrolled": true
   },
   "outputs": [
    {
     "name": "stdout",
     "output_type": "stream",
     "text": [
      "aaa\n",
      "ccc\n",
      "ddd\n",
      "fff\n",
      "ggg\n"
     ]
    }
   ],
   "source": [
    "Order.listf()"
   ]
  },
  {
   "cell_type": "code",
   "execution_count": 230,
   "id": "6f90bbd2",
   "metadata": {},
   "outputs": [],
   "source": [
    "order = 'restore'"
   ]
  },
  {
   "cell_type": "code",
   "execution_count": 237,
   "id": "dcffed25",
   "metadata": {},
   "outputs": [
    {
     "name": "stdout",
     "output_type": "stream",
     "text": [
      "Error 200\n"
     ]
    }
   ],
   "source": [
    "Order.restore()"
   ]
  }
 ],
 "metadata": {
  "kernelspec": {
   "display_name": "Python 3",
   "language": "python",
   "name": "python3"
  },
  "language_info": {
   "codemirror_mode": {
    "name": "ipython",
    "version": 3
   },
   "file_extension": ".py",
   "mimetype": "text/x-python",
   "name": "python",
   "nbconvert_exporter": "python",
   "pygments_lexer": "ipython3",
   "version": "3.9.12"
  }
 },
 "nbformat": 4,
 "nbformat_minor": 5
}
