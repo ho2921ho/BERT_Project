{
 "cells": [
  {
   "cell_type": "code",
   "execution_count": 9,
   "id": "6587c670",
   "metadata": {
    "scrolled": false
   },
   "outputs": [
    {
     "name": "stdout",
     "output_type": "stream",
     "text": [
      "Requirement already satisfied: contextualized-topic-models==2.2.0 in c:\\users\\notebiz003\\anaconda3\\envs\\py37\\lib\\site-packages (2.2.0)\n",
      "Requirement already satisfied: scipy>=1.4.1 in c:\\users\\notebiz003\\anaconda3\\envs\\py37\\lib\\site-packages (from contextualized-topic-models==2.2.0) (1.7.3)\n",
      "Requirement already satisfied: matplotlib>=3.1.3 in c:\\users\\notebiz003\\anaconda3\\envs\\py37\\lib\\site-packages (from contextualized-topic-models==2.2.0) (3.5.2)\n",
      "Requirement already satisfied: tqdm>=4.56.0 in c:\\users\\notebiz003\\anaconda3\\envs\\py37\\lib\\site-packages (from contextualized-topic-models==2.2.0) (4.64.0)\n",
      "Requirement already satisfied: torch>=1.6.0 in c:\\users\\notebiz003\\anaconda3\\envs\\py37\\lib\\site-packages (from contextualized-topic-models==2.2.0) (1.12.0)\n",
      "Requirement already satisfied: wordcloud>=1.8.1 in c:\\users\\notebiz003\\anaconda3\\envs\\py37\\lib\\site-packages (from contextualized-topic-models==2.2.0) (1.8.2.2)\n",
      "Requirement already satisfied: ipywidgets==7.5.1 in c:\\users\\notebiz003\\anaconda3\\envs\\py37\\lib\\site-packages (from contextualized-topic-models==2.2.0) (7.5.1)\n",
      "Requirement already satisfied: ipython==7.16.1 in c:\\users\\notebiz003\\anaconda3\\envs\\py37\\lib\\site-packages (from contextualized-topic-models==2.2.0) (7.16.1)\n",
      "Requirement already satisfied: numpy>=1.19.1 in c:\\users\\notebiz003\\anaconda3\\envs\\py37\\lib\\site-packages (from contextualized-topic-models==2.2.0) (1.21.6)\n",
      "Requirement already satisfied: sentence-transformers>=1.1.1 in c:\\users\\notebiz003\\anaconda3\\envs\\py37\\lib\\site-packages (from contextualized-topic-models==2.2.0) (2.2.2)\n",
      "Requirement already satisfied: gensim>=3.8.3 in c:\\users\\notebiz003\\anaconda3\\envs\\py37\\lib\\site-packages (from contextualized-topic-models==2.2.0) (4.2.0)\n",
      "Requirement already satisfied: torchvision>=0.7.0 in c:\\users\\notebiz003\\anaconda3\\envs\\py37\\lib\\site-packages (from contextualized-topic-models==2.2.0) (0.13.0)\n",
      "Requirement already satisfied: backcall in c:\\users\\notebiz003\\anaconda3\\envs\\py37\\lib\\site-packages (from ipython==7.16.1->contextualized-topic-models==2.2.0) (0.2.0)\n",
      "Requirement already satisfied: traitlets>=4.2 in c:\\users\\notebiz003\\anaconda3\\envs\\py37\\lib\\site-packages (from ipython==7.16.1->contextualized-topic-models==2.2.0) (5.3.0)\n",
      "Requirement already satisfied: setuptools>=18.5 in c:\\users\\notebiz003\\anaconda3\\envs\\py37\\lib\\site-packages (from ipython==7.16.1->contextualized-topic-models==2.2.0) (61.2.0)\n",
      "Requirement already satisfied: colorama in c:\\users\\notebiz003\\anaconda3\\envs\\py37\\lib\\site-packages (from ipython==7.16.1->contextualized-topic-models==2.2.0) (0.4.5)\n",
      "Requirement already satisfied: pickleshare in c:\\users\\notebiz003\\anaconda3\\envs\\py37\\lib\\site-packages (from ipython==7.16.1->contextualized-topic-models==2.2.0) (0.7.5)\n",
      "Requirement already satisfied: prompt-toolkit!=3.0.0,!=3.0.1,<3.1.0,>=2.0.0 in c:\\users\\notebiz003\\anaconda3\\envs\\py37\\lib\\site-packages (from ipython==7.16.1->contextualized-topic-models==2.2.0) (3.0.30)\n",
      "Requirement already satisfied: pygments in c:\\users\\notebiz003\\anaconda3\\envs\\py37\\lib\\site-packages (from ipython==7.16.1->contextualized-topic-models==2.2.0) (2.12.0)\n",
      "Requirement already satisfied: decorator in c:\\users\\notebiz003\\anaconda3\\envs\\py37\\lib\\site-packages (from ipython==7.16.1->contextualized-topic-models==2.2.0) (5.1.1)\n",
      "Requirement already satisfied: jedi>=0.10 in c:\\users\\notebiz003\\anaconda3\\envs\\py37\\lib\\site-packages (from ipython==7.16.1->contextualized-topic-models==2.2.0) (0.18.1)\n",
      "Requirement already satisfied: ipykernel>=4.5.1 in c:\\users\\notebiz003\\anaconda3\\envs\\py37\\lib\\site-packages (from ipywidgets==7.5.1->contextualized-topic-models==2.2.0) (5.5.6)\n",
      "Requirement already satisfied: widgetsnbextension~=3.5.0 in c:\\users\\notebiz003\\anaconda3\\envs\\py37\\lib\\site-packages (from ipywidgets==7.5.1->contextualized-topic-models==2.2.0) (3.5.2)\n",
      "Requirement already satisfied: nbformat>=4.2.0 in c:\\users\\notebiz003\\anaconda3\\envs\\py37\\lib\\site-packages (from ipywidgets==7.5.1->contextualized-topic-models==2.2.0) (5.4.0)\n",
      "Requirement already satisfied: smart-open>=1.8.1 in c:\\users\\notebiz003\\anaconda3\\envs\\py37\\lib\\site-packages (from gensim>=3.8.3->contextualized-topic-models==2.2.0) (6.0.0)\n",
      "Requirement already satisfied: Cython==0.29.28 in c:\\users\\notebiz003\\anaconda3\\envs\\py37\\lib\\site-packages (from gensim>=3.8.3->contextualized-topic-models==2.2.0) (0.29.28)\n",
      "Requirement already satisfied: pillow>=6.2.0 in c:\\users\\notebiz003\\anaconda3\\envs\\py37\\lib\\site-packages (from matplotlib>=3.1.3->contextualized-topic-models==2.2.0) (9.2.0)\n",
      "Requirement already satisfied: pyparsing>=2.2.1 in c:\\users\\notebiz003\\anaconda3\\envs\\py37\\lib\\site-packages (from matplotlib>=3.1.3->contextualized-topic-models==2.2.0) (3.0.9)\n",
      "Requirement already satisfied: fonttools>=4.22.0 in c:\\users\\notebiz003\\anaconda3\\envs\\py37\\lib\\site-packages (from matplotlib>=3.1.3->contextualized-topic-models==2.2.0) (4.34.4)\n",
      "Requirement already satisfied: packaging>=20.0 in c:\\users\\notebiz003\\anaconda3\\envs\\py37\\lib\\site-packages (from matplotlib>=3.1.3->contextualized-topic-models==2.2.0) (21.3)\n",
      "Requirement already satisfied: cycler>=0.10 in c:\\users\\notebiz003\\anaconda3\\envs\\py37\\lib\\site-packages (from matplotlib>=3.1.3->contextualized-topic-models==2.2.0) (0.11.0)\n",
      "Requirement already satisfied: kiwisolver>=1.0.1 in c:\\users\\notebiz003\\anaconda3\\envs\\py37\\lib\\site-packages (from matplotlib>=3.1.3->contextualized-topic-models==2.2.0) (1.4.4)\n",
      "Requirement already satisfied: python-dateutil>=2.7 in c:\\users\\notebiz003\\anaconda3\\envs\\py37\\lib\\site-packages (from matplotlib>=3.1.3->contextualized-topic-models==2.2.0) (2.8.2)\n",
      "Requirement already satisfied: huggingface-hub>=0.4.0 in c:\\users\\notebiz003\\anaconda3\\envs\\py37\\lib\\site-packages (from sentence-transformers>=1.1.1->contextualized-topic-models==2.2.0) (0.8.1)\n",
      "Requirement already satisfied: transformers<5.0.0,>=4.6.0 in c:\\users\\notebiz003\\anaconda3\\envs\\py37\\lib\\site-packages (from sentence-transformers>=1.1.1->contextualized-topic-models==2.2.0) (4.21.0)\n",
      "Requirement already satisfied: scikit-learn in c:\\users\\notebiz003\\anaconda3\\envs\\py37\\lib\\site-packages (from sentence-transformers>=1.1.1->contextualized-topic-models==2.2.0) (1.0.2)\n",
      "Requirement already satisfied: nltk in c:\\users\\notebiz003\\anaconda3\\envs\\py37\\lib\\site-packages (from sentence-transformers>=1.1.1->contextualized-topic-models==2.2.0) (3.7)\n",
      "Requirement already satisfied: sentencepiece in c:\\users\\notebiz003\\anaconda3\\envs\\py37\\lib\\site-packages (from sentence-transformers>=1.1.1->contextualized-topic-models==2.2.0) (0.1.96)\n",
      "Requirement already satisfied: typing-extensions in c:\\users\\notebiz003\\anaconda3\\envs\\py37\\lib\\site-packages (from torch>=1.6.0->contextualized-topic-models==2.2.0) (4.3.0)\n",
      "Requirement already satisfied: requests in c:\\users\\notebiz003\\anaconda3\\envs\\py37\\lib\\site-packages (from torchvision>=0.7.0->contextualized-topic-models==2.2.0) (2.28.1)\n",
      "Requirement already satisfied: pyyaml>=5.1 in c:\\users\\notebiz003\\anaconda3\\envs\\py37\\lib\\site-packages (from huggingface-hub>=0.4.0->sentence-transformers>=1.1.1->contextualized-topic-models==2.2.0) (6.0)\n",
      "Requirement already satisfied: importlib-metadata in c:\\users\\notebiz003\\anaconda3\\envs\\py37\\lib\\site-packages (from huggingface-hub>=0.4.0->sentence-transformers>=1.1.1->contextualized-topic-models==2.2.0) (4.12.0)\n",
      "Requirement already satisfied: filelock in c:\\users\\notebiz003\\anaconda3\\envs\\py37\\lib\\site-packages (from huggingface-hub>=0.4.0->sentence-transformers>=1.1.1->contextualized-topic-models==2.2.0) (3.7.1)\n",
      "Requirement already satisfied: jupyter-client in c:\\users\\notebiz003\\anaconda3\\envs\\py37\\lib\\site-packages (from ipykernel>=4.5.1->ipywidgets==7.5.1->contextualized-topic-models==2.2.0) (7.3.4)\n",
      "Requirement already satisfied: ipython-genutils in c:\\users\\notebiz003\\anaconda3\\envs\\py37\\lib\\site-packages (from ipykernel>=4.5.1->ipywidgets==7.5.1->contextualized-topic-models==2.2.0) (0.2.0)\n",
      "Requirement already satisfied: tornado>=4.2 in c:\\users\\notebiz003\\anaconda3\\envs\\py37\\lib\\site-packages (from ipykernel>=4.5.1->ipywidgets==7.5.1->contextualized-topic-models==2.2.0) (6.2)\n",
      "Requirement already satisfied: parso<0.9.0,>=0.8.0 in c:\\users\\notebiz003\\anaconda3\\envs\\py37\\lib\\site-packages (from jedi>=0.10->ipython==7.16.1->contextualized-topic-models==2.2.0) (0.8.3)\n",
      "Requirement already satisfied: fastjsonschema in c:\\users\\notebiz003\\anaconda3\\envs\\py37\\lib\\site-packages (from nbformat>=4.2.0->ipywidgets==7.5.1->contextualized-topic-models==2.2.0) (2.16.1)\n",
      "Requirement already satisfied: jsonschema>=2.6 in c:\\users\\notebiz003\\anaconda3\\envs\\py37\\lib\\site-packages (from nbformat>=4.2.0->ipywidgets==7.5.1->contextualized-topic-models==2.2.0) (4.8.0)\n",
      "Requirement already satisfied: jupyter-core in c:\\users\\notebiz003\\anaconda3\\envs\\py37\\lib\\site-packages (from nbformat>=4.2.0->ipywidgets==7.5.1->contextualized-topic-models==2.2.0) (4.11.1)\n",
      "Requirement already satisfied: wcwidth in c:\\users\\notebiz003\\anaconda3\\envs\\py37\\lib\\site-packages (from prompt-toolkit!=3.0.0,!=3.0.1,<3.1.0,>=2.0.0->ipython==7.16.1->contextualized-topic-models==2.2.0) (0.2.5)\n",
      "Requirement already satisfied: six>=1.5 in c:\\users\\notebiz003\\anaconda3\\envs\\py37\\lib\\site-packages (from python-dateutil>=2.7->matplotlib>=3.1.3->contextualized-topic-models==2.2.0) (1.16.0)\n",
      "Requirement already satisfied: regex!=2019.12.17 in c:\\users\\notebiz003\\anaconda3\\envs\\py37\\lib\\site-packages (from transformers<5.0.0,>=4.6.0->sentence-transformers>=1.1.1->contextualized-topic-models==2.2.0) (2022.7.25)\n",
      "Requirement already satisfied: tokenizers!=0.11.3,<0.13,>=0.11.1 in c:\\users\\notebiz003\\anaconda3\\envs\\py37\\lib\\site-packages (from transformers<5.0.0,>=4.6.0->sentence-transformers>=1.1.1->contextualized-topic-models==2.2.0) (0.12.1)\n",
      "Requirement already satisfied: notebook>=4.4.1 in c:\\users\\notebiz003\\anaconda3\\envs\\py37\\lib\\site-packages (from widgetsnbextension~=3.5.0->ipywidgets==7.5.1->contextualized-topic-models==2.2.0) (6.4.12)\n",
      "Requirement already satisfied: click in c:\\users\\notebiz003\\anaconda3\\envs\\py37\\lib\\site-packages (from nltk->sentence-transformers>=1.1.1->contextualized-topic-models==2.2.0) (8.1.3)\n",
      "Requirement already satisfied: joblib in c:\\users\\notebiz003\\anaconda3\\envs\\py37\\lib\\site-packages (from nltk->sentence-transformers>=1.1.1->contextualized-topic-models==2.2.0) (1.1.0)\n",
      "Requirement already satisfied: charset-normalizer<3,>=2 in c:\\users\\notebiz003\\anaconda3\\envs\\py37\\lib\\site-packages (from requests->torchvision>=0.7.0->contextualized-topic-models==2.2.0) (2.1.0)\n",
      "Requirement already satisfied: certifi>=2017.4.17 in c:\\users\\notebiz003\\anaconda3\\envs\\py37\\lib\\site-packages (from requests->torchvision>=0.7.0->contextualized-topic-models==2.2.0) (2022.6.15)\n",
      "Requirement already satisfied: idna<4,>=2.5 in c:\\users\\notebiz003\\anaconda3\\envs\\py37\\lib\\site-packages (from requests->torchvision>=0.7.0->contextualized-topic-models==2.2.0) (3.3)\n",
      "Requirement already satisfied: urllib3<1.27,>=1.21.1 in c:\\users\\notebiz003\\anaconda3\\envs\\py37\\lib\\site-packages (from requests->torchvision>=0.7.0->contextualized-topic-models==2.2.0) (1.26.11)\n",
      "Requirement already satisfied: threadpoolctl>=2.0.0 in c:\\users\\notebiz003\\anaconda3\\envs\\py37\\lib\\site-packages (from scikit-learn->sentence-transformers>=1.1.1->contextualized-topic-models==2.2.0) (3.1.0)\n",
      "Requirement already satisfied: attrs>=17.4.0 in c:\\users\\notebiz003\\anaconda3\\envs\\py37\\lib\\site-packages (from jsonschema>=2.6->nbformat>=4.2.0->ipywidgets==7.5.1->contextualized-topic-models==2.2.0) (22.1.0)\n",
      "Requirement already satisfied: pyrsistent!=0.17.0,!=0.17.1,!=0.17.2,>=0.14.0 in c:\\users\\notebiz003\\anaconda3\\envs\\py37\\lib\\site-packages (from jsonschema>=2.6->nbformat>=4.2.0->ipywidgets==7.5.1->contextualized-topic-models==2.2.0) (0.18.1)\n",
      "Requirement already satisfied: importlib-resources>=1.4.0 in c:\\users\\notebiz003\\anaconda3\\envs\\py37\\lib\\site-packages (from jsonschema>=2.6->nbformat>=4.2.0->ipywidgets==7.5.1->contextualized-topic-models==2.2.0) (5.9.0)\n",
      "Requirement already satisfied: argon2-cffi in c:\\users\\notebiz003\\anaconda3\\envs\\py37\\lib\\site-packages (from notebook>=4.4.1->widgetsnbextension~=3.5.0->ipywidgets==7.5.1->contextualized-topic-models==2.2.0) (21.3.0)\n",
      "Requirement already satisfied: terminado>=0.8.3 in c:\\users\\notebiz003\\anaconda3\\envs\\py37\\lib\\site-packages (from notebook>=4.4.1->widgetsnbextension~=3.5.0->ipywidgets==7.5.1->contextualized-topic-models==2.2.0) (0.15.0)\n",
      "Requirement already satisfied: prometheus-client in c:\\users\\notebiz003\\anaconda3\\envs\\py37\\lib\\site-packages (from notebook>=4.4.1->widgetsnbextension~=3.5.0->ipywidgets==7.5.1->contextualized-topic-models==2.2.0) (0.14.1)\n",
      "Requirement already satisfied: nbconvert>=5 in c:\\users\\notebiz003\\anaconda3\\envs\\py37\\lib\\site-packages (from notebook>=4.4.1->widgetsnbextension~=3.5.0->ipywidgets==7.5.1->contextualized-topic-models==2.2.0) (6.5.0)\n",
      "Requirement already satisfied: nest-asyncio>=1.5 in c:\\users\\notebiz003\\anaconda3\\envs\\py37\\lib\\site-packages (from notebook>=4.4.1->widgetsnbextension~=3.5.0->ipywidgets==7.5.1->contextualized-topic-models==2.2.0) (1.5.5)\n",
      "Requirement already satisfied: Send2Trash>=1.8.0 in c:\\users\\notebiz003\\anaconda3\\envs\\py37\\lib\\site-packages (from notebook>=4.4.1->widgetsnbextension~=3.5.0->ipywidgets==7.5.1->contextualized-topic-models==2.2.0) (1.8.0)\n",
      "Requirement already satisfied: jinja2 in c:\\users\\notebiz003\\anaconda3\\envs\\py37\\lib\\site-packages (from notebook>=4.4.1->widgetsnbextension~=3.5.0->ipywidgets==7.5.1->contextualized-topic-models==2.2.0) (3.1.2)\n",
      "Requirement already satisfied: pyzmq>=17 in c:\\users\\notebiz003\\anaconda3\\envs\\py37\\lib\\site-packages (from notebook>=4.4.1->widgetsnbextension~=3.5.0->ipywidgets==7.5.1->contextualized-topic-models==2.2.0) (23.2.0)\n",
      "Requirement already satisfied: entrypoints in c:\\users\\notebiz003\\anaconda3\\envs\\py37\\lib\\site-packages (from jupyter-client->ipykernel>=4.5.1->ipywidgets==7.5.1->contextualized-topic-models==2.2.0) (0.4)\n",
      "Requirement already satisfied: pywin32>=1.0 in c:\\users\\notebiz003\\anaconda3\\envs\\py37\\lib\\site-packages (from jupyter-core->nbformat>=4.2.0->ipywidgets==7.5.1->contextualized-topic-models==2.2.0) (304)\n",
      "Requirement already satisfied: zipp>=0.5 in c:\\users\\notebiz003\\anaconda3\\envs\\py37\\lib\\site-packages (from importlib-metadata->huggingface-hub>=0.4.0->sentence-transformers>=1.1.1->contextualized-topic-models==2.2.0) (3.8.1)\n",
      "Requirement already satisfied: mistune<2,>=0.8.1 in c:\\users\\notebiz003\\anaconda3\\envs\\py37\\lib\\site-packages (from nbconvert>=5->notebook>=4.4.1->widgetsnbextension~=3.5.0->ipywidgets==7.5.1->contextualized-topic-models==2.2.0) (0.8.4)\n",
      "Requirement already satisfied: nbclient>=0.5.0 in c:\\users\\notebiz003\\anaconda3\\envs\\py37\\lib\\site-packages (from nbconvert>=5->notebook>=4.4.1->widgetsnbextension~=3.5.0->ipywidgets==7.5.1->contextualized-topic-models==2.2.0) (0.6.6)\n",
      "Requirement already satisfied: bleach in c:\\users\\notebiz003\\anaconda3\\envs\\py37\\lib\\site-packages (from nbconvert>=5->notebook>=4.4.1->widgetsnbextension~=3.5.0->ipywidgets==7.5.1->contextualized-topic-models==2.2.0) (5.0.1)\n",
      "Requirement already satisfied: jupyterlab-pygments in c:\\users\\notebiz003\\anaconda3\\envs\\py37\\lib\\site-packages (from nbconvert>=5->notebook>=4.4.1->widgetsnbextension~=3.5.0->ipywidgets==7.5.1->contextualized-topic-models==2.2.0) (0.2.2)\n",
      "Requirement already satisfied: pandocfilters>=1.4.1 in c:\\users\\notebiz003\\anaconda3\\envs\\py37\\lib\\site-packages (from nbconvert>=5->notebook>=4.4.1->widgetsnbextension~=3.5.0->ipywidgets==7.5.1->contextualized-topic-models==2.2.0) (1.5.0)\n",
      "Requirement already satisfied: tinycss2 in c:\\users\\notebiz003\\anaconda3\\envs\\py37\\lib\\site-packages (from nbconvert>=5->notebook>=4.4.1->widgetsnbextension~=3.5.0->ipywidgets==7.5.1->contextualized-topic-models==2.2.0) (1.1.1)\n",
      "Requirement already satisfied: MarkupSafe>=2.0 in c:\\users\\notebiz003\\anaconda3\\envs\\py37\\lib\\site-packages (from nbconvert>=5->notebook>=4.4.1->widgetsnbextension~=3.5.0->ipywidgets==7.5.1->contextualized-topic-models==2.2.0) (2.1.1)\n",
      "Requirement already satisfied: beautifulsoup4 in c:\\users\\notebiz003\\anaconda3\\envs\\py37\\lib\\site-packages (from nbconvert>=5->notebook>=4.4.1->widgetsnbextension~=3.5.0->ipywidgets==7.5.1->contextualized-topic-models==2.2.0) (4.11.1)\n",
      "Requirement already satisfied: defusedxml in c:\\users\\notebiz003\\anaconda3\\envs\\py37\\lib\\site-packages (from nbconvert>=5->notebook>=4.4.1->widgetsnbextension~=3.5.0->ipywidgets==7.5.1->contextualized-topic-models==2.2.0) (0.7.1)\n",
      "Requirement already satisfied: pywinpty>=1.1.0 in c:\\users\\notebiz003\\anaconda3\\envs\\py37\\lib\\site-packages (from terminado>=0.8.3->notebook>=4.4.1->widgetsnbextension~=3.5.0->ipywidgets==7.5.1->contextualized-topic-models==2.2.0) (2.0.6)\n",
      "Requirement already satisfied: argon2-cffi-bindings in c:\\users\\notebiz003\\anaconda3\\envs\\py37\\lib\\site-packages (from argon2-cffi->notebook>=4.4.1->widgetsnbextension~=3.5.0->ipywidgets==7.5.1->contextualized-topic-models==2.2.0) (21.2.0)\n",
      "Requirement already satisfied: cffi>=1.0.1 in c:\\users\\notebiz003\\anaconda3\\envs\\py37\\lib\\site-packages (from argon2-cffi-bindings->argon2-cffi->notebook>=4.4.1->widgetsnbextension~=3.5.0->ipywidgets==7.5.1->contextualized-topic-models==2.2.0) (1.15.1)\n",
      "Requirement already satisfied: soupsieve>1.2 in c:\\users\\notebiz003\\anaconda3\\envs\\py37\\lib\\site-packages (from beautifulsoup4->nbconvert>=5->notebook>=4.4.1->widgetsnbextension~=3.5.0->ipywidgets==7.5.1->contextualized-topic-models==2.2.0) (2.3.2.post1)\n",
      "Requirement already satisfied: webencodings in c:\\users\\notebiz003\\anaconda3\\envs\\py37\\lib\\site-packages (from bleach->nbconvert>=5->notebook>=4.4.1->widgetsnbextension~=3.5.0->ipywidgets==7.5.1->contextualized-topic-models==2.2.0) (0.5.1)\n",
      "Requirement already satisfied: pycparser in c:\\users\\notebiz003\\anaconda3\\envs\\py37\\lib\\site-packages (from cffi>=1.0.1->argon2-cffi-bindings->argon2-cffi->notebook>=4.4.1->widgetsnbextension~=3.5.0->ipywidgets==7.5.1->contextualized-topic-models==2.2.0) (2.21)\n"
     ]
    },
    {
     "name": "stdout",
     "output_type": "stream",
     "text": [
      "Requirement already satisfied: pyldavis in c:\\users\\notebiz003\\anaconda3\\envs\\py37\\lib\\site-packages (3.3.1)\n",
      "Requirement already satisfied: funcy in c:\\users\\notebiz003\\anaconda3\\envs\\py37\\lib\\site-packages (from pyldavis) (1.17)\n",
      "Requirement already satisfied: scipy in c:\\users\\notebiz003\\anaconda3\\envs\\py37\\lib\\site-packages (from pyldavis) (1.7.3)\n",
      "Requirement already satisfied: jinja2 in c:\\users\\notebiz003\\anaconda3\\envs\\py37\\lib\\site-packages (from pyldavis) (3.1.2)\n",
      "Requirement already satisfied: numpy>=1.20.0 in c:\\users\\notebiz003\\anaconda3\\envs\\py37\\lib\\site-packages (from pyldavis) (1.21.6)\n",
      "Requirement already satisfied: joblib in c:\\users\\notebiz003\\anaconda3\\envs\\py37\\lib\\site-packages (from pyldavis) (1.1.0)\n",
      "Requirement already satisfied: pandas>=1.2.0 in c:\\users\\notebiz003\\anaconda3\\envs\\py37\\lib\\site-packages (from pyldavis) (1.3.5)\n",
      "Requirement already satisfied: sklearn in c:\\users\\notebiz003\\anaconda3\\envs\\py37\\lib\\site-packages (from pyldavis) (0.0)\n",
      "Requirement already satisfied: scikit-learn in c:\\users\\notebiz003\\anaconda3\\envs\\py37\\lib\\site-packages (from pyldavis) (1.0.2)\n",
      "Requirement already satisfied: setuptools in c:\\users\\notebiz003\\anaconda3\\envs\\py37\\lib\\site-packages (from pyldavis) (61.2.0)\n",
      "Requirement already satisfied: gensim in c:\\users\\notebiz003\\anaconda3\\envs\\py37\\lib\\site-packages (from pyldavis) (4.2.0)\n",
      "Requirement already satisfied: future in c:\\users\\notebiz003\\anaconda3\\envs\\py37\\lib\\site-packages (from pyldavis) (0.18.2)\n",
      "Requirement already satisfied: numexpr in c:\\users\\notebiz003\\anaconda3\\envs\\py37\\lib\\site-packages (from pyldavis) (2.8.3)\n",
      "Requirement already satisfied: python-dateutil>=2.7.3 in c:\\users\\notebiz003\\anaconda3\\envs\\py37\\lib\\site-packages (from pandas>=1.2.0->pyldavis) (2.8.2)\n",
      "Requirement already satisfied: pytz>=2017.3 in c:\\users\\notebiz003\\anaconda3\\envs\\py37\\lib\\site-packages (from pandas>=1.2.0->pyldavis) (2022.1)\n",
      "Requirement already satisfied: smart-open>=1.8.1 in c:\\users\\notebiz003\\anaconda3\\envs\\py37\\lib\\site-packages (from gensim->pyldavis) (6.0.0)\n",
      "Requirement already satisfied: Cython==0.29.28 in c:\\users\\notebiz003\\anaconda3\\envs\\py37\\lib\\site-packages (from gensim->pyldavis) (0.29.28)\n",
      "Requirement already satisfied: MarkupSafe>=2.0 in c:\\users\\notebiz003\\anaconda3\\envs\\py37\\lib\\site-packages (from jinja2->pyldavis) (2.1.1)\n",
      "Requirement already satisfied: packaging in c:\\users\\notebiz003\\anaconda3\\envs\\py37\\lib\\site-packages (from numexpr->pyldavis) (21.3)\n",
      "Requirement already satisfied: threadpoolctl>=2.0.0 in c:\\users\\notebiz003\\anaconda3\\envs\\py37\\lib\\site-packages (from scikit-learn->pyldavis) (3.1.0)\n",
      "Requirement already satisfied: six>=1.5 in c:\\users\\notebiz003\\anaconda3\\envs\\py37\\lib\\site-packages (from python-dateutil>=2.7.3->pandas>=1.2.0->pyldavis) (1.16.0)\n",
      "Requirement already satisfied: pyparsing!=3.0.5,>=2.0.2 in c:\\users\\notebiz003\\anaconda3\\envs\\py37\\lib\\site-packages (from packaging->numexpr->pyldavis) (3.0.9)\n",
      "Requirement already satisfied: konlpy in c:\\users\\notebiz003\\anaconda3\\envs\\py37\\lib\\site-packages (0.6.0)\n",
      "Requirement already satisfied: lxml>=4.1.0 in c:\\users\\notebiz003\\anaconda3\\envs\\py37\\lib\\site-packages (from konlpy) (4.9.1)\n",
      "Requirement already satisfied: numpy>=1.6 in c:\\users\\notebiz003\\anaconda3\\envs\\py37\\lib\\site-packages (from konlpy) (1.21.6)\n",
      "Requirement already satisfied: JPype1>=0.7.0 in c:\\users\\notebiz003\\anaconda3\\envs\\py37\\lib\\site-packages (from konlpy) (1.4.0)\n",
      "Requirement already satisfied: typing-extensions in c:\\users\\notebiz003\\anaconda3\\envs\\py37\\lib\\site-packages (from JPype1>=0.7.0->konlpy) (4.3.0)\n"
     ]
    }
   ],
   "source": [
    "!pip install contextualized-topic-models==2.2.0\n",
    "!pip install pyldavis\n",
    "!pip install konlpy"
   ]
  },
  {
   "cell_type": "code",
   "execution_count": 1,
   "id": "2774057f",
   "metadata": {},
   "outputs": [],
   "source": [
    "from contextualized_topic_models.models.ctm import CombinedTM\n",
    "from contextualized_topic_models.utils.data_preparation import TopicModelDataPreparation, bert_embeddings_from_list\n",
    "from contextualized_topic_models.utils.preprocessing import WhiteSpacePreprocessing\n",
    "from sklearn.feature_extraction.text import CountVectorizer\n",
    "from konlpy.tag import Kkma\n",
    "from tqdm import tqdm\n",
    "import pandas as pd"
   ]
  },
  {
   "cell_type": "code",
   "execution_count": 10,
   "id": "71d27e64",
   "metadata": {},
   "outputs": [],
   "source": [
    "DATA_PATH = 'kpfSBERT_Clustering\\data/newstrust_20210601_samlple.json'\n",
    "df = pd.read_json(DATA_PATH, encoding='utf-8')\n",
    "documents = list(df['title'])"
   ]
  },
  {
   "cell_type": "code",
   "execution_count": 11,
   "id": "21793eac",
   "metadata": {},
   "outputs": [
    {
     "name": "stderr",
     "output_type": "stream",
     "text": [
      "100%|███████████████████████████████████████████████████████████████████████| 12006/12006 [00:00<00:00, 1103880.35it/s]\n"
     ]
    }
   ],
   "source": [
    "preprocessed_documents = []\n",
    "\n",
    "for line in tqdm(documents):\n",
    "  # 빈 문자열이거나 숫자로만 이루어진 줄은 제외\n",
    "  if line and not line.replace(' ', '').isdecimal():\n",
    "    preprocessed_documents.append(line)"
   ]
  },
  {
   "cell_type": "code",
   "execution_count": 12,
   "id": "dee57eec",
   "metadata": {},
   "outputs": [
    {
     "data": {
      "text/plain": [
       "12006"
      ]
     },
     "execution_count": 12,
     "metadata": {},
     "output_type": "execute_result"
    }
   ],
   "source": [
    "len(preprocessed_documents)"
   ]
  },
  {
   "cell_type": "code",
   "execution_count": 13,
   "id": "d918bb59",
   "metadata": {},
   "outputs": [],
   "source": [
    "class CustomTokenizer:\n",
    "    def __init__(self, tagger):\n",
    "        self.tagger = tagger\n",
    "    def __call__(self, sent):\n",
    "        word_tokens = self.tagger.morphs(sent)\n",
    "        result = [word for word in word_tokens if len(word) > 1]\n",
    "        return result"
   ]
  },
  {
   "cell_type": "code",
   "execution_count": 33,
   "id": "8a78c326",
   "metadata": {},
   "outputs": [
    {
     "ename": "JVMNotFoundException",
     "evalue": "No JVM shared library file (jvm.dll) found. Try setting up the JAVA_HOME environment variable properly.",
     "output_type": "error",
     "traceback": [
      "\u001b[1;31m---------------------------------------------------------------------------\u001b[0m",
      "\u001b[1;31mJVMNotFoundException\u001b[0m                      Traceback (most recent call last)",
      "\u001b[1;32m<ipython-input-33-49e38515f325>\u001b[0m in \u001b[0;36m<module>\u001b[1;34m\u001b[0m\n\u001b[1;32m----> 1\u001b[1;33m \u001b[0mcustom_tokenizer\u001b[0m \u001b[1;33m=\u001b[0m \u001b[0mCustomTokenizer\u001b[0m\u001b[1;33m(\u001b[0m\u001b[0mKkma\u001b[0m\u001b[1;33m(\u001b[0m\u001b[1;33m)\u001b[0m\u001b[1;33m)\u001b[0m\u001b[1;33m\u001b[0m\u001b[1;33m\u001b[0m\u001b[0m\n\u001b[0m",
      "\u001b[1;32m~\\anaconda3\\envs\\py37\\lib\\site-packages\\konlpy\\tag\\_kkma.py\u001b[0m in \u001b[0;36m__init__\u001b[1;34m(self, jvmpath, max_heap_size)\u001b[0m\n\u001b[0;32m     42\u001b[0m     \u001b[1;32mdef\u001b[0m \u001b[0m__init__\u001b[0m\u001b[1;33m(\u001b[0m\u001b[0mself\u001b[0m\u001b[1;33m,\u001b[0m \u001b[0mjvmpath\u001b[0m\u001b[1;33m=\u001b[0m\u001b[1;32mNone\u001b[0m\u001b[1;33m,\u001b[0m \u001b[0mmax_heap_size\u001b[0m\u001b[1;33m=\u001b[0m\u001b[1;36m1024\u001b[0m\u001b[1;33m)\u001b[0m\u001b[1;33m:\u001b[0m\u001b[1;33m\u001b[0m\u001b[1;33m\u001b[0m\u001b[0m\n\u001b[0;32m     43\u001b[0m         \u001b[1;32mif\u001b[0m \u001b[1;32mnot\u001b[0m \u001b[0mjpype\u001b[0m\u001b[1;33m.\u001b[0m\u001b[0misJVMStarted\u001b[0m\u001b[1;33m(\u001b[0m\u001b[1;33m)\u001b[0m\u001b[1;33m:\u001b[0m\u001b[1;33m\u001b[0m\u001b[1;33m\u001b[0m\u001b[0m\n\u001b[1;32m---> 44\u001b[1;33m             \u001b[0mjvm\u001b[0m\u001b[1;33m.\u001b[0m\u001b[0minit_jvm\u001b[0m\u001b[1;33m(\u001b[0m\u001b[0mjvmpath\u001b[0m\u001b[1;33m,\u001b[0m \u001b[0mmax_heap_size\u001b[0m\u001b[1;33m)\u001b[0m\u001b[1;33m\u001b[0m\u001b[1;33m\u001b[0m\u001b[0m\n\u001b[0m\u001b[0;32m     45\u001b[0m \u001b[1;33m\u001b[0m\u001b[0m\n\u001b[0;32m     46\u001b[0m         \u001b[0mkkmaJavaPackage\u001b[0m \u001b[1;33m=\u001b[0m \u001b[0mjpype\u001b[0m\u001b[1;33m.\u001b[0m\u001b[0mJPackage\u001b[0m\u001b[1;33m(\u001b[0m\u001b[1;34m'kr.lucypark.kkma'\u001b[0m\u001b[1;33m)\u001b[0m\u001b[1;33m\u001b[0m\u001b[1;33m\u001b[0m\u001b[0m\n",
      "\u001b[1;32m~\\anaconda3\\envs\\py37\\lib\\site-packages\\konlpy\\jvm.py\u001b[0m in \u001b[0;36minit_jvm\u001b[1;34m(jvmpath, max_heap_size)\u001b[0m\n\u001b[0;32m     53\u001b[0m     \u001b[0mclasspath\u001b[0m \u001b[1;33m=\u001b[0m \u001b[1;33m[\u001b[0m\u001b[0mf\u001b[0m\u001b[1;33m.\u001b[0m\u001b[0mformat\u001b[0m\u001b[1;33m(\u001b[0m\u001b[1;33m*\u001b[0m\u001b[0margs\u001b[0m\u001b[1;33m)\u001b[0m \u001b[1;32mfor\u001b[0m \u001b[0mf\u001b[0m \u001b[1;32min\u001b[0m \u001b[0mfolder_suffix\u001b[0m\u001b[1;33m]\u001b[0m\u001b[1;33m\u001b[0m\u001b[1;33m\u001b[0m\u001b[0m\n\u001b[0;32m     54\u001b[0m \u001b[1;33m\u001b[0m\u001b[0m\n\u001b[1;32m---> 55\u001b[1;33m     \u001b[0mjvmpath\u001b[0m \u001b[1;33m=\u001b[0m \u001b[0mjvmpath\u001b[0m \u001b[1;32mor\u001b[0m \u001b[0mjpype\u001b[0m\u001b[1;33m.\u001b[0m\u001b[0mgetDefaultJVMPath\u001b[0m\u001b[1;33m(\u001b[0m\u001b[1;33m)\u001b[0m\u001b[1;33m\u001b[0m\u001b[1;33m\u001b[0m\u001b[0m\n\u001b[0m\u001b[0;32m     56\u001b[0m \u001b[1;33m\u001b[0m\u001b[0m\n\u001b[0;32m     57\u001b[0m     \u001b[1;31m# NOTE: Temporary patch for Issue #76. Erase when possible.\u001b[0m\u001b[1;33m\u001b[0m\u001b[1;33m\u001b[0m\u001b[1;33m\u001b[0m\u001b[0m\n",
      "\u001b[1;32m~\\anaconda3\\envs\\py37\\lib\\site-packages\\jpype\\_jvmfinder.py\u001b[0m in \u001b[0;36mgetDefaultJVMPath\u001b[1;34m()\u001b[0m\n\u001b[0;32m     72\u001b[0m     \u001b[1;32melse\u001b[0m\u001b[1;33m:\u001b[0m\u001b[1;33m\u001b[0m\u001b[1;33m\u001b[0m\u001b[0m\n\u001b[0;32m     73\u001b[0m         \u001b[0mfinder\u001b[0m \u001b[1;33m=\u001b[0m \u001b[0mLinuxJVMFinder\u001b[0m\u001b[1;33m(\u001b[0m\u001b[1;33m)\u001b[0m\u001b[1;33m\u001b[0m\u001b[1;33m\u001b[0m\u001b[0m\n\u001b[1;32m---> 74\u001b[1;33m     \u001b[1;32mreturn\u001b[0m \u001b[0mfinder\u001b[0m\u001b[1;33m.\u001b[0m\u001b[0mget_jvm_path\u001b[0m\u001b[1;33m(\u001b[0m\u001b[1;33m)\u001b[0m\u001b[1;33m\u001b[0m\u001b[1;33m\u001b[0m\u001b[0m\n\u001b[0m\u001b[0;32m     75\u001b[0m \u001b[1;33m\u001b[0m\u001b[0m\n\u001b[0;32m     76\u001b[0m \u001b[1;33m\u001b[0m\u001b[0m\n",
      "\u001b[1;32m~\\anaconda3\\envs\\py37\\lib\\site-packages\\jpype\\_jvmfinder.py\u001b[0m in \u001b[0;36mget_jvm_path\u001b[1;34m(self)\u001b[0m\n\u001b[0;32m    213\u001b[0m                                    \u001b[1;34m\"found. Try setting up the JAVA_HOME \"\u001b[0m\u001b[1;33m\u001b[0m\u001b[1;33m\u001b[0m\u001b[0m\n\u001b[0;32m    214\u001b[0m                                    \u001b[1;34m\"environment variable properly.\"\u001b[0m\u001b[1;33m\u001b[0m\u001b[1;33m\u001b[0m\u001b[0m\n\u001b[1;32m--> 215\u001b[1;33m                                    .format(self._libfile))\n\u001b[0m\u001b[0;32m    216\u001b[0m \u001b[1;33m\u001b[0m\u001b[0m\n\u001b[0;32m    217\u001b[0m     \u001b[1;32mdef\u001b[0m \u001b[0m_get_from_java_home\u001b[0m\u001b[1;33m(\u001b[0m\u001b[0mself\u001b[0m\u001b[1;33m)\u001b[0m\u001b[1;33m:\u001b[0m\u001b[1;33m\u001b[0m\u001b[1;33m\u001b[0m\u001b[0m\n",
      "\u001b[1;31mJVMNotFoundException\u001b[0m: No JVM shared library file (jvm.dll) found. Try setting up the JAVA_HOME environment variable properly."
     ]
    }
   ],
   "source": [
    "custom_tokenizer = CustomTokenizer(Kkma())"
   ]
  },
  {
   "cell_type": "code",
   "execution_count": 24,
   "id": "844f6858",
   "metadata": {},
   "outputs": [
    {
     "name": "stdout",
     "output_type": "stream",
     "text": [
      "('64bit', 'WindowsPE')\n"
     ]
    }
   ],
   "source": [
    "import platform\n",
    "print(platform.architecture())"
   ]
  },
  {
   "cell_type": "code",
   "execution_count": 8,
   "id": "33ec464b",
   "metadata": {},
   "outputs": [
    {
     "ename": "NameError",
     "evalue": "name 'custom_tokenizer' is not defined",
     "output_type": "error",
     "traceback": [
      "\u001b[1;31m---------------------------------------------------------------------------\u001b[0m",
      "\u001b[1;31mNameError\u001b[0m                                 Traceback (most recent call last)",
      "\u001b[1;32m<ipython-input-8-2bd59a0fcf0c>\u001b[0m in \u001b[0;36m<module>\u001b[1;34m\u001b[0m\n\u001b[1;32m----> 1\u001b[1;33m \u001b[0mvectorizer\u001b[0m \u001b[1;33m=\u001b[0m \u001b[0mCountVectorizer\u001b[0m\u001b[1;33m(\u001b[0m\u001b[0mtokenizer\u001b[0m\u001b[1;33m=\u001b[0m\u001b[0mcustom_tokenizer\u001b[0m\u001b[1;33m,\u001b[0m \u001b[0mmax_features\u001b[0m\u001b[1;33m=\u001b[0m\u001b[1;36m3000\u001b[0m\u001b[1;33m)\u001b[0m\u001b[1;33m\u001b[0m\u001b[1;33m\u001b[0m\u001b[0m\n\u001b[0m",
      "\u001b[1;31mNameError\u001b[0m: name 'custom_tokenizer' is not defined"
     ]
    }
   ],
   "source": [
    "vectorizer = CountVectorizer(tokenizer=custom_tokenizer, max_features=3000)"
   ]
  },
  {
   "cell_type": "code",
   "execution_count": null,
   "id": "73cca975",
   "metadata": {},
   "outputs": [],
   "source": [
    "train_bow_embeddings = vectorizer.fit_transform(preprocessed_documents)"
   ]
  },
  {
   "cell_type": "code",
   "execution_count": null,
   "id": "eb3ae99d",
   "metadata": {},
   "outputs": [],
   "source": [
    "print(train_bow_embeddings.shape)"
   ]
  },
  {
   "cell_type": "code",
   "execution_count": null,
   "id": "3a36a9ea",
   "metadata": {},
   "outputs": [],
   "source": [
    "vocab = vectorizer.get_feature_names()\n",
    "id2token = {k: v for k, v in zip(range(0, len(vocab)), vocab)}"
   ]
  },
  {
   "cell_type": "code",
   "execution_count": null,
   "id": "a649164c",
   "metadata": {},
   "outputs": [],
   "source": [
    "train_contextualized_embeddings = bert_embeddings_from_list(preprocessed_documents, \\\n",
    "                                                            \"sentence-transformers/xlm-r-100langs-bert-base-nli-stsb-mean-tokens\")"
   ]
  },
  {
   "cell_type": "code",
   "execution_count": null,
   "id": "d49dbdf6",
   "metadata": {},
   "outputs": [],
   "source": [
    "qt = TopicModelDataPreparation()\n",
    "\n",
    "training_dataset = qt.load(train_contextualized_embeddings, train_bow_embeddings, id2token)"
   ]
  },
  {
   "cell_type": "code",
   "execution_count": null,
   "id": "ec23dcd8",
   "metadata": {},
   "outputs": [],
   "source": [
    "ctm = CombinedTM(bow_size=len(vocab), contextual_size=768, n_components=50, num_epochs=20)\n",
    "ctm.fit(training_dataset)"
   ]
  },
  {
   "cell_type": "code",
   "execution_count": null,
   "id": "a615b946",
   "metadata": {},
   "outputs": [],
   "source": [
    "ctm.get_topics(5)"
   ]
  },
  {
   "cell_type": "code",
   "execution_count": null,
   "id": "126b9ec4",
   "metadata": {},
   "outputs": [],
   "source": [
    "ctm.get_topics(10)"
   ]
  },
  {
   "cell_type": "code",
   "execution_count": null,
   "id": "97fa02f2",
   "metadata": {},
   "outputs": [],
   "source": [
    "import pyLDAvis as vis\n",
    "\n",
    "lda_vis_data = ctm.get_ldavis_data_format(vocab, training_dataset, n_samples=10)\n",
    "\n",
    "ctm_pd = vis.prepare(**lda_vis_data)\n",
    "vis.display(ctm_pd)"
   ]
  }
 ],
 "metadata": {
  "kernelspec": {
   "display_name": "Python 3 (ipykernel)",
   "language": "python",
   "name": "python3"
  },
  "language_info": {
   "codemirror_mode": {
    "name": "ipython",
    "version": 3
   },
   "file_extension": ".py",
   "mimetype": "text/x-python",
   "name": "python",
   "nbconvert_exporter": "python",
   "pygments_lexer": "ipython3",
   "version": "3.7.13"
  }
 },
 "nbformat": 4,
 "nbformat_minor": 5
}
