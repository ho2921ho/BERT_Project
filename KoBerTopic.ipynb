{
 "cells": [
  {
   "cell_type": "code",
   "execution_count": 2,
   "id": "6587c670",
   "metadata": {
    "scrolled": false
   },
   "outputs": [
    {
     "name": "stdout",
     "output_type": "stream",
     "text": [
      "Collecting contextualized-topic-models==2.2.0"
     ]
    },
    {
     "name": "stderr",
     "output_type": "stream",
     "text": [
      "ERROR: pip's dependency resolver does not currently take into account all the packages that are installed. This behaviour is the source of the following dependency conflicts.\n",
      "spyder 5.1.5 requires pyqt5<5.13, which is not installed.\n",
      "spyder 5.1.5 requires pyqtwebengine<5.13, which is not installed.\n"
     ]
    },
    {
     "name": "stdout",
     "output_type": "stream",
     "text": [
      "\n",
      "  Using cached contextualized_topic_models-2.2.0-py2.py3-none-any.whl (33 kB)\n",
      "Collecting ipywidgets==7.5.1\n",
      "  Using cached ipywidgets-7.5.1-py2.py3-none-any.whl (121 kB)\n",
      "Collecting ipython==7.16.1\n",
      "  Using cached ipython-7.16.1-py3-none-any.whl (785 kB)\n",
      "Requirement already satisfied: scipy>=1.4.1 in c:\\users\\notebiz003\\anaconda3\\lib\\site-packages (from contextualized-topic-models==2.2.0) (1.7.3)\n",
      "Collecting torchvision>=0.7.0\n",
      "  Downloading torchvision-0.13.0-cp39-cp39-win_amd64.whl (1.1 MB)\n",
      "Collecting torch>=1.6.0\n",
      "  Downloading torch-1.12.0-cp39-cp39-win_amd64.whl (161.8 MB)\n",
      "Collecting sentence-transformers>=1.1.1\n",
      "  Using cached sentence-transformers-2.2.2.tar.gz (85 kB)\n",
      "Requirement already satisfied: matplotlib>=3.1.3 in c:\\users\\notebiz003\\anaconda3\\lib\\site-packages (from contextualized-topic-models==2.2.0) (3.5.1)\n",
      "Requirement already satisfied: numpy>=1.19.1 in c:\\users\\notebiz003\\anaconda3\\lib\\site-packages (from contextualized-topic-models==2.2.0) (1.21.5)\n",
      "Collecting wordcloud>=1.8.1\n",
      "  Downloading wordcloud-1.8.2.2-cp39-cp39-win_amd64.whl (153 kB)\n",
      "Requirement already satisfied: gensim>=3.8.3 in c:\\users\\notebiz003\\anaconda3\\lib\\site-packages (from contextualized-topic-models==2.2.0) (4.1.2)\n",
      "Requirement already satisfied: tqdm>=4.56.0 in c:\\users\\notebiz003\\anaconda3\\lib\\site-packages (from contextualized-topic-models==2.2.0) (4.64.0)\n",
      "Requirement already satisfied: pygments in c:\\users\\notebiz003\\anaconda3\\lib\\site-packages (from ipython==7.16.1->contextualized-topic-models==2.2.0) (2.11.2)\n",
      "Requirement already satisfied: decorator in c:\\users\\notebiz003\\anaconda3\\lib\\site-packages (from ipython==7.16.1->contextualized-topic-models==2.2.0) (5.1.1)\n",
      "Requirement already satisfied: setuptools>=18.5 in c:\\users\\notebiz003\\anaconda3\\lib\\site-packages (from ipython==7.16.1->contextualized-topic-models==2.2.0) (61.2.0)\n",
      "Requirement already satisfied: jedi>=0.10 in c:\\users\\notebiz003\\anaconda3\\lib\\site-packages (from ipython==7.16.1->contextualized-topic-models==2.2.0) (0.18.1)\n",
      "Requirement already satisfied: backcall in c:\\users\\notebiz003\\anaconda3\\lib\\site-packages (from ipython==7.16.1->contextualized-topic-models==2.2.0) (0.2.0)\n",
      "Requirement already satisfied: prompt-toolkit!=3.0.0,!=3.0.1,<3.1.0,>=2.0.0 in c:\\users\\notebiz003\\anaconda3\\lib\\site-packages (from ipython==7.16.1->contextualized-topic-models==2.2.0) (3.0.20)\n",
      "Requirement already satisfied: pickleshare in c:\\users\\notebiz003\\anaconda3\\lib\\site-packages (from ipython==7.16.1->contextualized-topic-models==2.2.0) (0.7.5)\n",
      "Requirement already satisfied: colorama in c:\\users\\notebiz003\\anaconda3\\lib\\site-packages (from ipython==7.16.1->contextualized-topic-models==2.2.0) (0.4.4)\n",
      "Requirement already satisfied: traitlets>=4.2 in c:\\users\\notebiz003\\anaconda3\\lib\\site-packages (from ipython==7.16.1->contextualized-topic-models==2.2.0) (5.1.1)\n",
      "Requirement already satisfied: ipykernel>=4.5.1 in c:\\users\\notebiz003\\anaconda3\\lib\\site-packages (from ipywidgets==7.5.1->contextualized-topic-models==2.2.0) (6.9.1)\n",
      "Requirement already satisfied: nbformat>=4.2.0 in c:\\users\\notebiz003\\anaconda3\\lib\\site-packages (from ipywidgets==7.5.1->contextualized-topic-models==2.2.0) (5.3.0)\n",
      "Requirement already satisfied: widgetsnbextension~=3.5.0 in c:\\users\\notebiz003\\anaconda3\\lib\\site-packages (from ipywidgets==7.5.1->contextualized-topic-models==2.2.0) (3.5.2)\n",
      "Requirement already satisfied: smart-open>=1.8.1 in c:\\users\\notebiz003\\anaconda3\\lib\\site-packages (from gensim>=3.8.3->contextualized-topic-models==2.2.0) (5.1.0)\n",
      "Requirement already satisfied: matplotlib-inline<0.2.0,>=0.1.0 in c:\\users\\notebiz003\\anaconda3\\lib\\site-packages (from ipykernel>=4.5.1->ipywidgets==7.5.1->contextualized-topic-models==2.2.0) (0.1.2)\n",
      "Requirement already satisfied: tornado<7.0,>=4.2 in c:\\users\\notebiz003\\anaconda3\\lib\\site-packages (from ipykernel>=4.5.1->ipywidgets==7.5.1->contextualized-topic-models==2.2.0) (6.1)\n",
      "Collecting ipykernel>=4.5.1\n",
      "  Using cached ipykernel-6.15.1-py3-none-any.whl (132 kB)\n",
      "  Using cached ipykernel-6.15.0-py3-none-any.whl (133 kB)\n",
      "  Using cached ipykernel-6.14.0-py3-none-any.whl (133 kB)\n",
      "  Using cached ipykernel-6.13.1-py3-none-any.whl (133 kB)\n",
      "  Using cached ipykernel-6.13.0-py3-none-any.whl (131 kB)\n",
      "  Using cached ipykernel-6.12.1-py3-none-any.whl (130 kB)\n",
      "  Using cached ipykernel-6.12.0-py3-none-any.whl (130 kB)\n",
      "  Using cached ipykernel-6.11.0-py3-none-any.whl (130 kB)\n",
      "  Using cached ipykernel-6.10.0-py3-none-any.whl (130 kB)\n",
      "  Using cached ipykernel-6.9.2-py3-none-any.whl (130 kB)\n",
      "  Using cached ipykernel-6.9.0-py3-none-any.whl (128 kB)\n",
      "  Using cached ipykernel-6.8.0-py3-none-any.whl (128 kB)\n",
      "  Using cached ipykernel-6.7.0-py3-none-any.whl (127 kB)\n",
      "  Using cached ipykernel-6.6.1-py3-none-any.whl (126 kB)\n",
      "  Using cached ipykernel-6.6.0-py3-none-any.whl (126 kB)\n",
      "  Using cached ipykernel-6.5.1-py3-none-any.whl (125 kB)\n",
      "  Using cached ipykernel-6.5.0-py3-none-any.whl (125 kB)\n",
      "  Using cached ipykernel-6.4.2-py3-none-any.whl (124 kB)\n",
      "  Using cached ipykernel-6.4.1-py3-none-any.whl (124 kB)\n",
      "  Using cached ipykernel-6.4.0-py3-none-any.whl (124 kB)\n",
      "  Using cached ipykernel-6.3.1-py3-none-any.whl (123 kB)\n",
      "  Using cached ipykernel-6.3.0-py3-none-any.whl (123 kB)\n",
      "  Using cached ipykernel-6.2.0-py3-none-any.whl (122 kB)\n",
      "  Using cached ipykernel-6.1.0-py3-none-any.whl (122 kB)\n",
      "  Using cached ipykernel-6.0.3-py3-none-any.whl (122 kB)\n",
      "  Using cached ipykernel-6.0.2-py3-none-any.whl (122 kB)\n",
      "  Using cached ipykernel-6.0.1-py3-none-any.whl (122 kB)\n",
      "  Using cached ipykernel-6.0.0-py3-none-any.whl (122 kB)\n",
      "  Using cached ipykernel-5.5.6-py3-none-any.whl (121 kB)\n",
      "Requirement already satisfied: jupyter-client in c:\\users\\notebiz003\\anaconda3\\lib\\site-packages (from ipykernel>=4.5.1->ipywidgets==7.5.1->contextualized-topic-models==2.2.0) (6.1.12)\n",
      "Requirement already satisfied: ipython-genutils in c:\\users\\notebiz003\\anaconda3\\lib\\site-packages (from ipykernel>=4.5.1->ipywidgets==7.5.1->contextualized-topic-models==2.2.0) (0.2.0)\n",
      "Requirement already satisfied: parso<0.9.0,>=0.8.0 in c:\\users\\notebiz003\\anaconda3\\lib\\site-packages (from jedi>=0.10->ipython==7.16.1->contextualized-topic-models==2.2.0) (0.8.3)\n",
      "Requirement already satisfied: packaging>=20.0 in c:\\users\\notebiz003\\anaconda3\\lib\\site-packages (from matplotlib>=3.1.3->contextualized-topic-models==2.2.0) (21.3)\n",
      "Requirement already satisfied: cycler>=0.10 in c:\\users\\notebiz003\\anaconda3\\lib\\site-packages (from matplotlib>=3.1.3->contextualized-topic-models==2.2.0) (0.11.0)\n",
      "Requirement already satisfied: fonttools>=4.22.0 in c:\\users\\notebiz003\\anaconda3\\lib\\site-packages (from matplotlib>=3.1.3->contextualized-topic-models==2.2.0) (4.25.0)\n",
      "Requirement already satisfied: pyparsing>=2.2.1 in c:\\users\\notebiz003\\anaconda3\\lib\\site-packages (from matplotlib>=3.1.3->contextualized-topic-models==2.2.0) (3.0.4)\n",
      "Requirement already satisfied: python-dateutil>=2.7 in c:\\users\\notebiz003\\anaconda3\\lib\\site-packages (from matplotlib>=3.1.3->contextualized-topic-models==2.2.0) (2.8.2)\n",
      "Requirement already satisfied: kiwisolver>=1.0.1 in c:\\users\\notebiz003\\anaconda3\\lib\\site-packages (from matplotlib>=3.1.3->contextualized-topic-models==2.2.0) (1.3.2)\n",
      "Requirement already satisfied: pillow>=6.2.0 in c:\\users\\notebiz003\\anaconda3\\lib\\site-packages (from matplotlib>=3.1.3->contextualized-topic-models==2.2.0) (9.2.0)\n",
      "Requirement already satisfied: fastjsonschema in c:\\users\\notebiz003\\anaconda3\\lib\\site-packages (from nbformat>=4.2.0->ipywidgets==7.5.1->contextualized-topic-models==2.2.0) (2.15.1)\n",
      "Requirement already satisfied: jupyter-core in c:\\users\\notebiz003\\anaconda3\\lib\\site-packages (from nbformat>=4.2.0->ipywidgets==7.5.1->contextualized-topic-models==2.2.0) (4.9.2)\n",
      "Requirement already satisfied: jsonschema>=2.6 in c:\\users\\notebiz003\\anaconda3\\lib\\site-packages (from nbformat>=4.2.0->ipywidgets==7.5.1->contextualized-topic-models==2.2.0) (4.4.0)\n",
      "Requirement already satisfied: pyrsistent!=0.17.0,!=0.17.1,!=0.17.2,>=0.14.0 in c:\\users\\notebiz003\\anaconda3\\lib\\site-packages (from jsonschema>=2.6->nbformat>=4.2.0->ipywidgets==7.5.1->contextualized-topic-models==2.2.0) (0.18.0)\n",
      "Requirement already satisfied: attrs>=17.4.0 in c:\\users\\notebiz003\\anaconda3\\lib\\site-packages (from jsonschema>=2.6->nbformat>=4.2.0->ipywidgets==7.5.1->contextualized-topic-models==2.2.0) (21.4.0)\n",
      "Requirement already satisfied: wcwidth in c:\\users\\notebiz003\\anaconda3\\lib\\site-packages (from prompt-toolkit!=3.0.0,!=3.0.1,<3.1.0,>=2.0.0->ipython==7.16.1->contextualized-topic-models==2.2.0) (0.2.5)\n",
      "Requirement already satisfied: six>=1.5 in c:\\users\\notebiz003\\anaconda3\\lib\\site-packages (from python-dateutil>=2.7->matplotlib>=3.1.3->contextualized-topic-models==2.2.0) (1.16.0)\n",
      "Requirement already satisfied: transformers<5.0.0,>=4.6.0 in c:\\users\\notebiz003\\anaconda3\\lib\\site-packages (from sentence-transformers>=1.1.1->contextualized-topic-models==2.2.0) (4.20.1)\n",
      "Requirement already satisfied: scikit-learn in c:\\users\\notebiz003\\anaconda3\\lib\\site-packages (from sentence-transformers>=1.1.1->contextualized-topic-models==2.2.0) (1.0.2)\n",
      "Requirement already satisfied: nltk in c:\\users\\notebiz003\\anaconda3\\lib\\site-packages (from sentence-transformers>=1.1.1->contextualized-topic-models==2.2.0) (3.7)\n",
      "Collecting sentencepiece\n",
      "  Downloading sentencepiece-0.1.96-cp39-cp39-win_amd64.whl (1.1 MB)\n",
      "Requirement already satisfied: huggingface-hub>=0.4.0 in c:\\users\\notebiz003\\anaconda3\\lib\\site-packages (from sentence-transformers>=1.1.1->contextualized-topic-models==2.2.0) (0.8.1)\n",
      "Requirement already satisfied: typing-extensions>=3.7.4.3 in c:\\users\\notebiz003\\anaconda3\\lib\\site-packages (from huggingface-hub>=0.4.0->sentence-transformers>=1.1.1->contextualized-topic-models==2.2.0) (4.1.1)\n",
      "Requirement already satisfied: requests in c:\\users\\notebiz003\\anaconda3\\lib\\site-packages (from huggingface-hub>=0.4.0->sentence-transformers>=1.1.1->contextualized-topic-models==2.2.0) (2.27.1)\n",
      "Requirement already satisfied: filelock in c:\\users\\notebiz003\\anaconda3\\lib\\site-packages (from huggingface-hub>=0.4.0->sentence-transformers>=1.1.1->contextualized-topic-models==2.2.0) (3.6.0)\n",
      "Requirement already satisfied: pyyaml>=5.1 in c:\\users\\notebiz003\\anaconda3\\lib\\site-packages (from huggingface-hub>=0.4.0->sentence-transformers>=1.1.1->contextualized-topic-models==2.2.0) (6.0)\n",
      "Requirement already satisfied: tokenizers!=0.11.3,<0.13,>=0.11.1 in c:\\users\\notebiz003\\anaconda3\\lib\\site-packages (from transformers<5.0.0,>=4.6.0->sentence-transformers>=1.1.1->contextualized-topic-models==2.2.0) (0.12.1)\n",
      "Requirement already satisfied: regex!=2019.12.17 in c:\\users\\notebiz003\\anaconda3\\lib\\site-packages (from transformers<5.0.0,>=4.6.0->sentence-transformers>=1.1.1->contextualized-topic-models==2.2.0) (2022.3.15)\n",
      "Requirement already satisfied: notebook>=4.4.1 in c:\\users\\notebiz003\\anaconda3\\lib\\site-packages (from widgetsnbextension~=3.5.0->ipywidgets==7.5.1->contextualized-topic-models==2.2.0) (6.4.8)\n",
      "Requirement already satisfied: prometheus-client in c:\\users\\notebiz003\\anaconda3\\lib\\site-packages (from notebook>=4.4.1->widgetsnbextension~=3.5.0->ipywidgets==7.5.1->contextualized-topic-models==2.2.0) (0.13.1)\n",
      "Requirement already satisfied: terminado>=0.8.3 in c:\\users\\notebiz003\\anaconda3\\lib\\site-packages (from notebook>=4.4.1->widgetsnbextension~=3.5.0->ipywidgets==7.5.1->contextualized-topic-models==2.2.0) (0.13.1)\n",
      "Requirement already satisfied: jinja2 in c:\\users\\notebiz003\\anaconda3\\lib\\site-packages (from notebook>=4.4.1->widgetsnbextension~=3.5.0->ipywidgets==7.5.1->contextualized-topic-models==2.2.0) (2.11.3)\n",
      "Requirement already satisfied: argon2-cffi in c:\\users\\notebiz003\\anaconda3\\lib\\site-packages (from notebook>=4.4.1->widgetsnbextension~=3.5.0->ipywidgets==7.5.1->contextualized-topic-models==2.2.0) (21.3.0)\n",
      "Requirement already satisfied: pyzmq>=17 in c:\\users\\notebiz003\\anaconda3\\lib\\site-packages (from notebook>=4.4.1->widgetsnbextension~=3.5.0->ipywidgets==7.5.1->contextualized-topic-models==2.2.0) (22.3.0)\n",
      "Requirement already satisfied: Send2Trash>=1.8.0 in c:\\users\\notebiz003\\anaconda3\\lib\\site-packages (from notebook>=4.4.1->widgetsnbextension~=3.5.0->ipywidgets==7.5.1->contextualized-topic-models==2.2.0) (1.8.0)\n",
      "Requirement already satisfied: nest-asyncio>=1.5 in c:\\users\\notebiz003\\anaconda3\\lib\\site-packages (from notebook>=4.4.1->widgetsnbextension~=3.5.0->ipywidgets==7.5.1->contextualized-topic-models==2.2.0) (1.5.5)\n",
      "Requirement already satisfied: nbconvert in c:\\users\\notebiz003\\anaconda3\\lib\\site-packages (from notebook>=4.4.1->widgetsnbextension~=3.5.0->ipywidgets==7.5.1->contextualized-topic-models==2.2.0) (6.4.4)\n",
      "Requirement already satisfied: pywin32>=1.0 in c:\\users\\notebiz003\\anaconda3\\lib\\site-packages (from jupyter-core->nbformat>=4.2.0->ipywidgets==7.5.1->contextualized-topic-models==2.2.0) (302)\n",
      "Requirement already satisfied: pywinpty>=1.1.0 in c:\\users\\notebiz003\\anaconda3\\lib\\site-packages (from terminado>=0.8.3->notebook>=4.4.1->widgetsnbextension~=3.5.0->ipywidgets==7.5.1->contextualized-topic-models==2.2.0) (2.0.2)\n",
      "Requirement already satisfied: argon2-cffi-bindings in c:\\users\\notebiz003\\anaconda3\\lib\\site-packages (from argon2-cffi->notebook>=4.4.1->widgetsnbextension~=3.5.0->ipywidgets==7.5.1->contextualized-topic-models==2.2.0) (21.2.0)\n",
      "Requirement already satisfied: cffi>=1.0.1 in c:\\users\\notebiz003\\anaconda3\\lib\\site-packages (from argon2-cffi-bindings->argon2-cffi->notebook>=4.4.1->widgetsnbextension~=3.5.0->ipywidgets==7.5.1->contextualized-topic-models==2.2.0) (1.15.0)\n",
      "Requirement already satisfied: pycparser in c:\\users\\notebiz003\\anaconda3\\lib\\site-packages (from cffi>=1.0.1->argon2-cffi-bindings->argon2-cffi->notebook>=4.4.1->widgetsnbextension~=3.5.0->ipywidgets==7.5.1->contextualized-topic-models==2.2.0) (2.21)\n",
      "Requirement already satisfied: MarkupSafe>=0.23 in c:\\users\\notebiz003\\anaconda3\\lib\\site-packages (from jinja2->notebook>=4.4.1->widgetsnbextension~=3.5.0->ipywidgets==7.5.1->contextualized-topic-models==2.2.0) (2.0.1)\n",
      "Requirement already satisfied: nbclient<0.6.0,>=0.5.0 in c:\\users\\notebiz003\\anaconda3\\lib\\site-packages (from nbconvert->notebook>=4.4.1->widgetsnbextension~=3.5.0->ipywidgets==7.5.1->contextualized-topic-models==2.2.0) (0.5.13)\n",
      "Requirement already satisfied: mistune<2,>=0.8.1 in c:\\users\\notebiz003\\anaconda3\\lib\\site-packages (from nbconvert->notebook>=4.4.1->widgetsnbextension~=3.5.0->ipywidgets==7.5.1->contextualized-topic-models==2.2.0) (0.8.4)\n",
      "Requirement already satisfied: bleach in c:\\users\\notebiz003\\anaconda3\\lib\\site-packages (from nbconvert->notebook>=4.4.1->widgetsnbextension~=3.5.0->ipywidgets==7.5.1->contextualized-topic-models==2.2.0) (4.1.0)\n",
      "Requirement already satisfied: defusedxml in c:\\users\\notebiz003\\anaconda3\\lib\\site-packages (from nbconvert->notebook>=4.4.1->widgetsnbextension~=3.5.0->ipywidgets==7.5.1->contextualized-topic-models==2.2.0) (0.7.1)\n",
      "Requirement already satisfied: entrypoints>=0.2.2 in c:\\users\\notebiz003\\anaconda3\\lib\\site-packages (from nbconvert->notebook>=4.4.1->widgetsnbextension~=3.5.0->ipywidgets==7.5.1->contextualized-topic-models==2.2.0) (0.4)\n",
      "Requirement already satisfied: testpath in c:\\users\\notebiz003\\anaconda3\\lib\\site-packages (from nbconvert->notebook>=4.4.1->widgetsnbextension~=3.5.0->ipywidgets==7.5.1->contextualized-topic-models==2.2.0) (0.5.0)\n",
      "Requirement already satisfied: jupyterlab-pygments in c:\\users\\notebiz003\\anaconda3\\lib\\site-packages (from nbconvert->notebook>=4.4.1->widgetsnbextension~=3.5.0->ipywidgets==7.5.1->contextualized-topic-models==2.2.0) (0.1.2)\n",
      "Requirement already satisfied: beautifulsoup4 in c:\\users\\notebiz003\\anaconda3\\lib\\site-packages (from nbconvert->notebook>=4.4.1->widgetsnbextension~=3.5.0->ipywidgets==7.5.1->contextualized-topic-models==2.2.0) (4.11.1)\n",
      "Requirement already satisfied: pandocfilters>=1.4.1 in c:\\users\\notebiz003\\anaconda3\\lib\\site-packages (from nbconvert->notebook>=4.4.1->widgetsnbextension~=3.5.0->ipywidgets==7.5.1->contextualized-topic-models==2.2.0) (1.5.0)\n",
      "Requirement already satisfied: soupsieve>1.2 in c:\\users\\notebiz003\\anaconda3\\lib\\site-packages (from beautifulsoup4->nbconvert->notebook>=4.4.1->widgetsnbextension~=3.5.0->ipywidgets==7.5.1->contextualized-topic-models==2.2.0) (2.3.1)\n",
      "Requirement already satisfied: webencodings in c:\\users\\notebiz003\\anaconda3\\lib\\site-packages (from bleach->nbconvert->notebook>=4.4.1->widgetsnbextension~=3.5.0->ipywidgets==7.5.1->contextualized-topic-models==2.2.0) (0.5.1)\n",
      "Requirement already satisfied: joblib in c:\\users\\notebiz003\\anaconda3\\lib\\site-packages (from nltk->sentence-transformers>=1.1.1->contextualized-topic-models==2.2.0) (1.1.0)\n",
      "Requirement already satisfied: click in c:\\users\\notebiz003\\anaconda3\\lib\\site-packages (from nltk->sentence-transformers>=1.1.1->contextualized-topic-models==2.2.0) (8.0.4)\n",
      "Requirement already satisfied: urllib3<1.27,>=1.21.1 in c:\\users\\notebiz003\\anaconda3\\lib\\site-packages (from requests->huggingface-hub>=0.4.0->sentence-transformers>=1.1.1->contextualized-topic-models==2.2.0) (1.26.9)\n",
      "Requirement already satisfied: idna<4,>=2.5 in c:\\users\\notebiz003\\anaconda3\\lib\\site-packages (from requests->huggingface-hub>=0.4.0->sentence-transformers>=1.1.1->contextualized-topic-models==2.2.0) (3.3)\n",
      "Requirement already satisfied: certifi>=2017.4.17 in c:\\users\\notebiz003\\anaconda3\\lib\\site-packages (from requests->huggingface-hub>=0.4.0->sentence-transformers>=1.1.1->contextualized-topic-models==2.2.0) (2021.10.8)\n",
      "Requirement already satisfied: charset-normalizer~=2.0.0 in c:\\users\\notebiz003\\anaconda3\\lib\\site-packages (from requests->huggingface-hub>=0.4.0->sentence-transformers>=1.1.1->contextualized-topic-models==2.2.0) (2.0.4)\n",
      "Requirement already satisfied: threadpoolctl>=2.0.0 in c:\\users\\notebiz003\\anaconda3\\lib\\site-packages (from scikit-learn->sentence-transformers>=1.1.1->contextualized-topic-models==2.2.0) (2.2.0)\n",
      "Building wheels for collected packages: sentence-transformers\n",
      "  Building wheel for sentence-transformers (setup.py): started\n",
      "  Building wheel for sentence-transformers (setup.py): finished with status 'done'\n",
      "  Created wheel for sentence-transformers: filename=sentence_transformers-2.2.2-py3-none-any.whl size=125940 sha256=adda780d056f4337bf007997c8f9e20f16a455f612fb9a970ac754b727d76bcb\n",
      "  Stored in directory: c:\\users\\notebiz003\\appdata\\local\\pip\\cache\\wheels\\71\\67\\06\\162a3760c40d74dd40bc855d527008d26341c2b0ecf3e8e11f\n",
      "Successfully built sentence-transformers\n",
      "Installing collected packages: ipython, ipykernel, torch, torchvision, sentencepiece, wordcloud, sentence-transformers, ipywidgets, contextualized-topic-models\n",
      "  Attempting uninstall: ipython\n",
      "    Found existing installation: ipython 8.2.0\n",
      "    Uninstalling ipython-8.2.0:\n",
      "      Successfully uninstalled ipython-8.2.0\n",
      "  Attempting uninstall: ipykernel\n",
      "    Found existing installation: ipykernel 6.9.1\n",
      "    Uninstalling ipykernel-6.9.1:\n",
      "      Successfully uninstalled ipykernel-6.9.1\n",
      "  Attempting uninstall: ipywidgets\n",
      "    Found existing installation: ipywidgets 7.6.5\n",
      "    Uninstalling ipywidgets-7.6.5:\n",
      "      Successfully uninstalled ipywidgets-7.6.5\n",
      "Successfully installed contextualized-topic-models-2.2.0 ipykernel-5.5.6 ipython-7.16.1 ipywidgets-7.5.1 sentence-transformers-2.2.2 sentencepiece-0.1.96 torch-1.12.0 torchvision-0.13.0 wordcloud-1.8.2.2\n"
     ]
    },
    {
     "name": "stdout",
     "output_type": "stream",
     "text": [
      "Collecting pyldavis\n",
      "  Using cached pyLDAvis-3.3.1.tar.gz (1.7 MB)\n",
      "  Installing build dependencies: started\n",
      "  Installing build dependencies: finished with status 'done'\n",
      "  Getting requirements to build wheel: started\n",
      "  Getting requirements to build wheel: finished with status 'done'\n",
      "  Installing backend dependencies: started\n",
      "  Installing backend dependencies: finished with status 'done'\n",
      "    Preparing wheel metadata: started\n",
      "    Preparing wheel metadata: finished with status 'done'\n",
      "Requirement already satisfied: setuptools in c:\\users\\notebiz003\\anaconda3\\lib\\site-packages (from pyldavis) (61.2.0)\n",
      "Requirement already satisfied: jinja2 in c:\\users\\notebiz003\\anaconda3\\lib\\site-packages (from pyldavis) (2.11.3)\n",
      "Requirement already satisfied: joblib in c:\\users\\notebiz003\\anaconda3\\lib\\site-packages (from pyldavis) (1.1.0)\n",
      "Requirement already satisfied: scipy in c:\\users\\notebiz003\\anaconda3\\lib\\site-packages (from pyldavis) (1.7.3)\n",
      "Requirement already satisfied: scikit-learn in c:\\users\\notebiz003\\anaconda3\\lib\\site-packages (from pyldavis) (1.0.2)\n",
      "Requirement already satisfied: pandas>=1.2.0 in c:\\users\\notebiz003\\anaconda3\\lib\\site-packages (from pyldavis) (1.4.2)\n",
      "Collecting sklearn\n",
      "  Using cached sklearn-0.0.tar.gz (1.1 kB)\n",
      "Requirement already satisfied: numpy>=1.20.0 in c:\\users\\notebiz003\\anaconda3\\lib\\site-packages (from pyldavis) (1.21.5)\n",
      "Requirement already satisfied: gensim in c:\\users\\notebiz003\\anaconda3\\lib\\site-packages (from pyldavis) (4.1.2)\n",
      "Requirement already satisfied: numexpr in c:\\users\\notebiz003\\anaconda3\\lib\\site-packages (from pyldavis) (2.8.1)\n",
      "Collecting funcy\n",
      "  Using cached funcy-1.17-py2.py3-none-any.whl (33 kB)\n",
      "Requirement already satisfied: future in c:\\users\\notebiz003\\anaconda3\\lib\\site-packages (from pyldavis) (0.18.2)\n",
      "Requirement already satisfied: python-dateutil>=2.8.1 in c:\\users\\notebiz003\\anaconda3\\lib\\site-packages (from pandas>=1.2.0->pyldavis) (2.8.2)\n",
      "Requirement already satisfied: pytz>=2020.1 in c:\\users\\notebiz003\\anaconda3\\lib\\site-packages (from pandas>=1.2.0->pyldavis) (2021.3)\n",
      "Requirement already satisfied: six>=1.5 in c:\\users\\notebiz003\\anaconda3\\lib\\site-packages (from python-dateutil>=2.8.1->pandas>=1.2.0->pyldavis) (1.16.0)\n",
      "Requirement already satisfied: smart-open>=1.8.1 in c:\\users\\notebiz003\\anaconda3\\lib\\site-packages (from gensim->pyldavis) (5.1.0)\n",
      "Requirement already satisfied: MarkupSafe>=0.23 in c:\\users\\notebiz003\\anaconda3\\lib\\site-packages (from jinja2->pyldavis) (2.0.1)\n",
      "Requirement already satisfied: packaging in c:\\users\\notebiz003\\anaconda3\\lib\\site-packages (from numexpr->pyldavis) (21.3)\n",
      "Requirement already satisfied: pyparsing!=3.0.5,>=2.0.2 in c:\\users\\notebiz003\\anaconda3\\lib\\site-packages (from packaging->numexpr->pyldavis) (3.0.4)\n",
      "Requirement already satisfied: threadpoolctl>=2.0.0 in c:\\users\\notebiz003\\anaconda3\\lib\\site-packages (from scikit-learn->pyldavis) (2.2.0)\n",
      "Building wheels for collected packages: pyldavis, sklearn\n",
      "  Building wheel for pyldavis (PEP 517): started\n",
      "  Building wheel for pyldavis (PEP 517): finished with status 'done'\n",
      "  Created wheel for pyldavis: filename=pyLDAvis-3.3.1-py2.py3-none-any.whl size=136882 sha256=8490268f1a59cae9f09268b6d59d7e7d06c6d22f437f54ee04264edd5cecfb12\n",
      "  Stored in directory: c:\\users\\notebiz003\\appdata\\local\\pip\\cache\\wheels\\57\\a4\\86\\d10c6c2e0bf149fbc0afb0aa5a6528ac35b30a133a0270c477\n",
      "  Building wheel for sklearn (setup.py): started\n",
      "  Building wheel for sklearn (setup.py): finished with status 'done'\n",
      "  Created wheel for sklearn: filename=sklearn-0.0-py2.py3-none-any.whl size=1310 sha256=fbf25b97b7fc58df4477727a25ad7de504a45855078ddaea8ae71eb2851d18c1\n",
      "  Stored in directory: c:\\users\\notebiz003\\appdata\\local\\pip\\cache\\wheels\\e4\\7b\\98\\b6466d71b8d738a0c547008b9eb39bf8676d1ff6ca4b22af1c\n",
      "Successfully built pyldavis sklearn\n",
      "Installing collected packages: sklearn, funcy, pyldavis\n",
      "Successfully installed funcy-1.17 pyldavis-3.3.1 sklearn-0.0\n",
      "Collecting konlpy\n",
      "  Using cached konlpy-0.6.0-py2.py3-none-any.whl (19.4 MB)\n",
      "Requirement already satisfied: lxml>=4.1.0 in c:\\users\\notebiz003\\anaconda3\\lib\\site-packages (from konlpy) (4.8.0)\n",
      "Requirement already satisfied: numpy>=1.6 in c:\\users\\notebiz003\\anaconda3\\lib\\site-packages (from konlpy) (1.21.5)\n",
      "Collecting JPype1>=0.7.0\n",
      "  Downloading JPype1-1.4.0-cp39-cp39-win_amd64.whl (344 kB)\n",
      "Installing collected packages: JPype1, konlpy\n",
      "Successfully installed JPype1-1.4.0 konlpy-0.6.0\n"
     ]
    }
   ],
   "source": [
    "!pip install contextualized-topic-models==2.2.0\n",
    "!pip install pyldavis\n",
    "!pip install konlpy"
   ]
  },
  {
   "cell_type": "code",
   "execution_count": 3,
   "id": "2774057f",
   "metadata": {},
   "outputs": [],
   "source": [
    "from contextualized_topic_models.models.ctm import CombinedTM\n",
    "from contextualized_topic_models.utils.data_preparation import TopicModelDataPreparation, bert_embeddings_from_list\n",
    "from contextualized_topic_models.utils.preprocessing import WhiteSpacePreprocessing\n",
    "from sklearn.feature_extraction.text import CountVectorizer\n",
    "from konlpy.tag import Kkma\n",
    "from tqdm import tqdm\n",
    "import pandas as pd"
   ]
  },
  {
   "cell_type": "code",
   "execution_count": 4,
   "id": "71d27e64",
   "metadata": {},
   "outputs": [],
   "source": [
    "DATA_PATH = 'kpfSBERT_Clustering\\data/newstrust_20210601_samlple.json'\n",
    "df = pd.read_json(DATA_PATH, encoding='utf-8')\n",
    "documents = list(df['title'])"
   ]
  },
  {
   "cell_type": "code",
   "execution_count": 5,
   "id": "21793eac",
   "metadata": {},
   "outputs": [
    {
     "name": "stderr",
     "output_type": "stream",
     "text": [
      "100%|███████████████████████████████████████████████████████████████████████| 12006/12006 [00:00<00:00, 1146087.98it/s]\n"
     ]
    }
   ],
   "source": [
    "preprocessed_documents = []\n",
    "\n",
    "for line in tqdm(documents):\n",
    "  # 빈 문자열이거나 숫자로만 이루어진 줄은 제외\n",
    "  if line and not line.replace(' ', '').isdecimal():\n",
    "    preprocessed_documents.append(line)"
   ]
  },
  {
   "cell_type": "code",
   "execution_count": 6,
   "id": "dee57eec",
   "metadata": {},
   "outputs": [
    {
     "data": {
      "text/plain": [
       "12006"
      ]
     },
     "execution_count": 6,
     "metadata": {},
     "output_type": "execute_result"
    }
   ],
   "source": [
    "len(preprocessed_documents)"
   ]
  },
  {
   "cell_type": "code",
   "execution_count": 7,
   "id": "d918bb59",
   "metadata": {},
   "outputs": [],
   "source": [
    "class CustomTokenizer:\n",
    "    def __init__(self, tagger):\n",
    "        self.tagger = tagger\n",
    "    def __call__(self, sent):\n",
    "        word_tokens = self.tagger.morphs(sent)\n",
    "        result = [word for word in word_tokens if len(word) > 1]\n",
    "        return result"
   ]
  },
  {
   "cell_type": "code",
   "execution_count": 8,
   "id": "8a78c326",
   "metadata": {},
   "outputs": [],
   "source": [
    "custom_tokenizer = CustomTokenizer(Kkma())"
   ]
  },
  {
   "cell_type": "code",
   "execution_count": 9,
   "id": "844f6858",
   "metadata": {},
   "outputs": [
    {
     "name": "stdout",
     "output_type": "stream",
     "text": [
      "('64bit', 'WindowsPE')\n"
     ]
    }
   ],
   "source": [
    "import platform\n",
    "print(platform.architecture())"
   ]
  },
  {
   "cell_type": "code",
   "execution_count": 10,
   "id": "33ec464b",
   "metadata": {},
   "outputs": [],
   "source": [
    "vectorizer = CountVectorizer(tokenizer=custom_tokenizer, max_features=3000)"
   ]
  },
  {
   "cell_type": "code",
   "execution_count": 11,
   "id": "73cca975",
   "metadata": {},
   "outputs": [],
   "source": [
    "train_bow_embeddings = vectorizer.fit_transform(preprocessed_documents)"
   ]
  },
  {
   "cell_type": "code",
   "execution_count": 12,
   "id": "eb3ae99d",
   "metadata": {},
   "outputs": [
    {
     "name": "stdout",
     "output_type": "stream",
     "text": [
      "(12006, 3000)\n"
     ]
    }
   ],
   "source": [
    "print(train_bow_embeddings.shape)"
   ]
  },
  {
   "cell_type": "code",
   "execution_count": 13,
   "id": "3a36a9ea",
   "metadata": {},
   "outputs": [
    {
     "name": "stderr",
     "output_type": "stream",
     "text": [
      "C:\\Users\\Notebiz003\\anaconda3\\lib\\site-packages\\sklearn\\utils\\deprecation.py:87: FutureWarning: Function get_feature_names is deprecated; get_feature_names is deprecated in 1.0 and will be removed in 1.2. Please use get_feature_names_out instead.\n",
      "  warnings.warn(msg, category=FutureWarning)\n"
     ]
    }
   ],
   "source": [
    "vocab = vectorizer.get_feature_names()\n",
    "id2token = {k: v for k, v in zip(range(0, len(vocab)), vocab)}"
   ]
  },
  {
   "cell_type": "code",
   "execution_count": 14,
   "id": "a649164c",
   "metadata": {},
   "outputs": [
    {
     "data": {
      "application/vnd.jupyter.widget-view+json": {
       "model_id": "7cfd8aca797644fb84686fc2814e4b84",
       "version_major": 2,
       "version_minor": 0
      },
      "text/plain": [
       "Downloading:   0%|          | 0.00/574 [00:00<?, ?B/s]"
      ]
     },
     "metadata": {},
     "output_type": "display_data"
    },
    {
     "data": {
      "application/vnd.jupyter.widget-view+json": {
       "model_id": "498bf7e3b59a45998b7e80aa51c08bb1",
       "version_major": 2,
       "version_minor": 0
      },
      "text/plain": [
       "Downloading:   0%|          | 0.00/190 [00:00<?, ?B/s]"
      ]
     },
     "metadata": {},
     "output_type": "display_data"
    },
    {
     "data": {
      "application/vnd.jupyter.widget-view+json": {
       "model_id": "d906f49ec9974260a7fa5752782b7b25",
       "version_major": 2,
       "version_minor": 0
      },
      "text/plain": [
       "Downloading:   0%|          | 0.00/4.06k [00:00<?, ?B/s]"
      ]
     },
     "metadata": {},
     "output_type": "display_data"
    },
    {
     "data": {
      "application/vnd.jupyter.widget-view+json": {
       "model_id": "d95f518a8d044673849f743b3d65a40e",
       "version_major": 2,
       "version_minor": 0
      },
      "text/plain": [
       "Downloading:   0%|          | 0.00/731 [00:00<?, ?B/s]"
      ]
     },
     "metadata": {},
     "output_type": "display_data"
    },
    {
     "data": {
      "application/vnd.jupyter.widget-view+json": {
       "model_id": "ccfa02cb991145d0a78d2c0ef4da1fdd",
       "version_major": 2,
       "version_minor": 0
      },
      "text/plain": [
       "Downloading:   0%|          | 0.00/122 [00:00<?, ?B/s]"
      ]
     },
     "metadata": {},
     "output_type": "display_data"
    },
    {
     "data": {
      "application/vnd.jupyter.widget-view+json": {
       "model_id": "4c2ccad1c46e4c5396fde26e0bbfc01b",
       "version_major": 2,
       "version_minor": 0
      },
      "text/plain": [
       "Downloading:   0%|          | 0.00/1.11G [00:00<?, ?B/s]"
      ]
     },
     "metadata": {},
     "output_type": "display_data"
    },
    {
     "data": {
      "application/vnd.jupyter.widget-view+json": {
       "model_id": "3d2669f1061548b68e040d0c65f50b7f",
       "version_major": 2,
       "version_minor": 0
      },
      "text/plain": [
       "Downloading:   0%|          | 0.00/53.0 [00:00<?, ?B/s]"
      ]
     },
     "metadata": {},
     "output_type": "display_data"
    },
    {
     "data": {
      "application/vnd.jupyter.widget-view+json": {
       "model_id": "e4671078f83647e988b9b52cae40ac66",
       "version_major": 2,
       "version_minor": 0
      },
      "text/plain": [
       "Downloading:   0%|          | 0.00/5.07M [00:00<?, ?B/s]"
      ]
     },
     "metadata": {},
     "output_type": "display_data"
    },
    {
     "data": {
      "application/vnd.jupyter.widget-view+json": {
       "model_id": "efe8b9a4aada497dbd87761b3db8b61f",
       "version_major": 2,
       "version_minor": 0
      },
      "text/plain": [
       "Downloading:   0%|          | 0.00/150 [00:00<?, ?B/s]"
      ]
     },
     "metadata": {},
     "output_type": "display_data"
    },
    {
     "data": {
      "application/vnd.jupyter.widget-view+json": {
       "model_id": "b4f6964e6be24d95b0122af1e02d5948",
       "version_major": 2,
       "version_minor": 0
      },
      "text/plain": [
       "Downloading:   0%|          | 0.00/9.10M [00:00<?, ?B/s]"
      ]
     },
     "metadata": {},
     "output_type": "display_data"
    },
    {
     "data": {
      "application/vnd.jupyter.widget-view+json": {
       "model_id": "0eb21369f8614597aeaa293142774bd8",
       "version_major": 2,
       "version_minor": 0
      },
      "text/plain": [
       "Downloading:   0%|          | 0.00/527 [00:00<?, ?B/s]"
      ]
     },
     "metadata": {},
     "output_type": "display_data"
    },
    {
     "data": {
      "application/vnd.jupyter.widget-view+json": {
       "model_id": "caca021f4a2047c38359241309a81767",
       "version_major": 2,
       "version_minor": 0
      },
      "text/plain": [
       "Downloading:   0%|          | 0.00/229 [00:00<?, ?B/s]"
      ]
     },
     "metadata": {},
     "output_type": "display_data"
    },
    {
     "data": {
      "application/vnd.jupyter.widget-view+json": {
       "model_id": "99780628cbd84d959602a03543e3c91a",
       "version_major": 2,
       "version_minor": 0
      },
      "text/plain": [
       "Batches:   0%|          | 0/61 [00:00<?, ?it/s]"
      ]
     },
     "metadata": {},
     "output_type": "display_data"
    }
   ],
   "source": [
    "train_contextualized_embeddings = bert_embeddings_from_list(preprocessed_documents, \\\n",
    "                                                            \"sentence-transformers/xlm-r-100langs-bert-base-nli-stsb-mean-tokens\")"
   ]
  },
  {
   "cell_type": "code",
   "execution_count": null,
   "id": "d49dbdf6",
   "metadata": {},
   "outputs": [],
   "source": [
    "qt = TopicModelDataPreparation()\n",
    "training_dataset = qt.load(train_contextualized_embeddings, train_bow_embeddings, id2token)"
   ]
  },
  {
   "cell_type": "code",
   "execution_count": null,
   "id": "ec23dcd8",
   "metadata": {},
   "outputs": [],
   "source": [
    "ctm = CombinedTM(bow_size=len(vocab), contextual_size=768, n_components=50, num_epochs=20)\n",
    "ctm.fit(training_dataset)"
   ]
  },
  {
   "cell_type": "code",
   "execution_count": null,
   "id": "a615b946",
   "metadata": {},
   "outputs": [],
   "source": [
    "ctm.get_topics(5)"
   ]
  },
  {
   "cell_type": "code",
   "execution_count": null,
   "id": "126b9ec4",
   "metadata": {},
   "outputs": [],
   "source": [
    "ctm.get_topics(10)"
   ]
  },
  {
   "cell_type": "code",
   "execution_count": null,
   "id": "97fa02f2",
   "metadata": {},
   "outputs": [],
   "source": [
    "import pyLDAvis as vis\n",
    "\n",
    "lda_vis_data = ctm.get_ldavis_data_format(vocab, training_dataset, n_samples=10)\n",
    "\n",
    "ctm_pd = vis.prepare(**lda_vis_data)\n",
    "vis.display(ctm_pd)"
   ]
  }
 ],
 "metadata": {
  "kernelspec": {
   "display_name": "Python 3 (ipykernel)",
   "language": "python",
   "name": "python3"
  },
  "language_info": {
   "codemirror_mode": {
    "name": "ipython",
    "version": 3
   },
   "file_extension": ".py",
   "mimetype": "text/x-python",
   "name": "python",
   "nbconvert_exporter": "python",
   "pygments_lexer": "ipython3",
   "version": "3.9.12"
  }
 },
 "nbformat": 4,
 "nbformat_minor": 5
}
